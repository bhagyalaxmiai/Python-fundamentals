{
 "cells": [
  {
   "cell_type": "markdown",
   "id": "825e9860",
   "metadata": {},
   "source": [
    "# NumPy"
   ]
  },
  {
   "cell_type": "markdown",
   "id": "5165dae1",
   "metadata": {},
   "source": [
    "NumPy is used for working with arrays."
   ]
  },
  {
   "cell_type": "code",
   "execution_count": 15,
   "id": "53d52623",
   "metadata": {},
   "outputs": [
    {
     "name": "stdout",
     "output_type": "stream",
     "text": [
      "[1 2 3 4 5]\n"
     ]
    }
   ],
   "source": [
    " # create a NumPy array \n",
    "import numpy as np\n",
    "arr = np.array([1, 2, 3, 4, 5])\n",
    "print(arr)"
   ]
  },
  {
   "cell_type": "code",
   "execution_count": 16,
   "id": "3d99c641",
   "metadata": {},
   "outputs": [
    {
     "name": "stdout",
     "output_type": "stream",
     "text": [
      "1\n"
     ]
    }
   ],
   "source": [
    "#Create a 0-D array with value 1\n",
    "\n",
    "arr = np.array(1)\n",
    "\n",
    "print(arr)"
   ]
  },
  {
   "cell_type": "code",
   "execution_count": 17,
   "id": "022d4b43",
   "metadata": {},
   "outputs": [
    {
     "data": {
      "text/plain": [
       "array([1, 2, 3, 4, 5])"
      ]
     },
     "execution_count": 17,
     "metadata": {},
     "output_type": "execute_result"
    }
   ],
   "source": [
    "#Create a 1-D array containing the values 1,2,3,4,5\n",
    "arr1 = np.array([1,2,3,4,5])\n",
    "arr1"
   ]
  },
  {
   "cell_type": "code",
   "execution_count": 18,
   "id": "4d5129bc",
   "metadata": {},
   "outputs": [
    {
     "data": {
      "text/plain": [
       "array([[1, 2, 3],\n",
       "       [4, 5, 6]])"
      ]
     },
     "execution_count": 18,
     "metadata": {},
     "output_type": "execute_result"
    }
   ],
   "source": [
    "#Create a 2-D array containing two arrays with the values 1,2,3 and 4,5,6\n",
    "arr2=np.array([[1,2,3],[4,5,6]])\n",
    "arr2"
   ]
  },
  {
   "cell_type": "code",
   "execution_count": 19,
   "id": "1ba2b973",
   "metadata": {},
   "outputs": [
    {
     "data": {
      "text/plain": [
       "array([[[1, 2, 3],\n",
       "        [4, 5, 6]],\n",
       "\n",
       "       [[1, 2, 3],\n",
       "        [4, 5, 6]]])"
      ]
     },
     "execution_count": 19,
     "metadata": {},
     "output_type": "execute_result"
    }
   ],
   "source": [
    "#Create a 3-D array with two 2-D arrays, both containing two arrays with the values 1,2,3 and 4,5,6:\n",
    "(layer,row,column)\n",
    "arr3 = np.array([[[1,2,3],[4,5,6]],\n",
    "                 [[1,2,3],[4,5,6]]])\n",
    "\n",
    "arr3"
   ]
  },
  {
   "cell_type": "code",
   "execution_count": 22,
   "id": "a51f8b7a",
   "metadata": {},
   "outputs": [
    {
     "name": "stdout",
     "output_type": "stream",
     "text": [
      "arr1 dimension : 1\n",
      "arr2 dimension : 2\n",
      "arr3 dimension : 3\n"
     ]
    }
   ],
   "source": [
    "#Check how many dimensions the arrays have\n",
    "#see the number of square brackets for dimensions\n",
    "print(f\"arr1 dimension : {arr1.ndim}\")\n",
    "print(f\"arr2 dimension : {arr2.ndim}\")\n",
    "print(f\"arr3 dimension : {arr3.ndim}\")\n"
   ]
  },
  {
   "cell_type": "code",
   "execution_count": 23,
   "id": "368efa97",
   "metadata": {},
   "outputs": [
    {
     "data": {
      "text/plain": [
       "array([[1, 2, 3, 4]])"
      ]
     },
     "execution_count": 23,
     "metadata": {},
     "output_type": "execute_result"
    }
   ],
   "source": [
    "arr = np.array([1, 2, 3, 4], ndmin=2)\n",
    "arr"
   ]
  },
  {
   "cell_type": "code",
   "execution_count": 34,
   "id": "2a26e82d",
   "metadata": {},
   "outputs": [
    {
     "name": "stdout",
     "output_type": "stream",
     "text": [
      "2nd element on 1st row:  2\n",
      "5th element on 2nd row:  10\n",
      "dimension 2\n"
     ]
    }
   ],
   "source": [
    "#Access the element on the first row, second column:\n",
    "arr = np.array([[1,2,3,4,5], [6,7,8,9,10]])\n",
    "\n",
    "print('2nd element on 1st row: ', arr[0, 1])\n",
    "print('5th element on 2nd row: ', arr[1, 4])\n",
    "print(\"dimension\", arr.ndim)"
   ]
  },
  {
   "cell_type": "code",
   "execution_count": 33,
   "id": "2285d26d",
   "metadata": {},
   "outputs": [
    {
     "name": "stdout",
     "output_type": "stream",
     "text": [
      "Number of layers: 2\n",
      "Number of rows per layer: 2\n",
      "Number of columns per row: 3\n"
     ]
    }
   ],
   "source": [
    "arr3 = np.array([[[1,2,3],[4,5,6]], [[1,2,3],[4,5,6]]])\n",
    "\n",
    "# Get the shape of the array\n",
    "layers, rows, columns = arr3.shape\n",
    "\n",
    "print(\"Number of layers:\", layers)\n",
    "print(\"Number of rows per layer:\", rows)\n",
    "print(\"Number of columns per row:\", columns)\n",
    "print(\"dimension\", arr3.ndim)"
   ]
  },
  {
   "cell_type": "code",
   "execution_count": 30,
   "id": "a9c3153f",
   "metadata": {},
   "outputs": [
    {
     "name": "stdout",
     "output_type": "stream",
     "text": [
      "Number of layers: 3\n",
      "Number of rows per layer: 1\n",
      "Number of columns per row: 3\n"
     ]
    }
   ],
   "source": [
    "arr3 = np.array([[[1,2,3]], [[4,5,6]],[[7,8,9]]])\n",
    "\n",
    "# Get the shape of the array\n",
    "layers, rows, columns = arr3.shape\n",
    "\n",
    "print(\"Number of layers:\", layers)\n",
    "print(\"Number of rows per layer:\", rows)\n",
    "print(\"Number of columns per row:\", columns)\n",
    "print(\"dimension\", arr3.ndim)"
   ]
  },
  {
   "cell_type": "code",
   "execution_count": 32,
   "id": "5b611bc4",
   "metadata": {},
   "outputs": [
    {
     "name": "stdout",
     "output_type": "stream",
     "text": [
      "Number of layers: 3\n",
      "Number of rows per layer: 1\n",
      "Number of columns per row: 2\n",
      "dimension 3\n"
     ]
    }
   ],
   "source": [
    "arr3 = np.array([[[1,2]], [[4,5]],[[7,8]]])\n",
    "\n",
    "# Get the shape of the array\n",
    "layers, rows, columns = arr3.shape\n",
    "\n",
    "print(\"Number of layers:\", layers)\n",
    "print(\"Number of rows per layer:\", rows)\n",
    "print(\"Number of columns per row:\", columns)\n",
    "print(\"dimension\", arr3.ndim)"
   ]
  },
  {
   "cell_type": "code",
   "execution_count": 38,
   "id": "c7d62173",
   "metadata": {},
   "outputs": [
    {
     "name": "stdout",
     "output_type": "stream",
     "text": [
      "6\n"
     ]
    },
    {
     "data": {
      "text/plain": [
       "'in arr[0,1,2] : 0 is the first dimension means two arrays \\n[1,2,3] [4,5,6]\\n 1 means the second array means [4,5,6]\\n 2 means the third elements in the array of [4,5,6] so ans is 6 '"
      ]
     },
     "execution_count": 38,
     "metadata": {},
     "output_type": "execute_result"
    }
   ],
   "source": [
    "arr = np.array([[[1, 2, 3], [4, 5, 6]], [[7, 8, 9], [10, 11, 12]]])\n",
    "\n",
    "print(arr[0, 1, 2])\n",
    "\n",
    "\"\"\"in arr[0,1,2] : 0 is the first dimension means two arrays \n",
    "[1,2,3] [4,5,6]\n",
    " 1 means the second array means [4,5,6]\n",
    " 2 means the third elements in the array of [4,5,6] so ans is 6 \"\"\"\n"
   ]
  },
  {
   "cell_type": "code",
   "execution_count": 40,
   "id": "e7da1d1d",
   "metadata": {},
   "outputs": [
    {
     "name": "stdout",
     "output_type": "stream",
     "text": [
      "Last element from 2nd dim:  10\n"
     ]
    },
    {
     "data": {
      "text/plain": [
       "'\\nfrom arr[1, -1] 1 is the second array [6,7,8,9,10] and -1 is the last index so ans is 10\\n'"
      ]
     },
     "execution_count": 40,
     "metadata": {},
     "output_type": "execute_result"
    }
   ],
   "source": [
    "arr = np.array([[1,2,3,4,5], [6,7,8,9,10]])\n",
    "\n",
    "print('Last element from 2nd dim: ', arr[1, -1])\n",
    "\n",
    "\"\"\"\n",
    "from arr[1, -1] 1 is the second array [6,7,8,9,10] and -1 is the last index so ans is 10\n",
    "\"\"\""
   ]
  },
  {
   "cell_type": "markdown",
   "id": "014bd421",
   "metadata": {},
   "source": [
    "## Array slicing"
   ]
  },
  {
   "cell_type": "code",
   "execution_count": 42,
   "id": "93256849",
   "metadata": {},
   "outputs": [
    {
     "name": "stdout",
     "output_type": "stream",
     "text": [
      "[2 3 4 5]\n"
     ]
    }
   ],
   "source": [
    "arr = np.array([1, 2, 3, 4, 5, 6, 7])\n",
    "\n",
    "print(arr[1:5])\n",
    "# last index is not considered"
   ]
  },
  {
   "cell_type": "code",
   "execution_count": 43,
   "id": "19f59cf1",
   "metadata": {},
   "outputs": [
    {
     "name": "stdout",
     "output_type": "stream",
     "text": [
      "[5 6 7]\n"
     ]
    }
   ],
   "source": [
    "arr = np.array([1, 2, 3, 4, 5, 6, 7])\n",
    "\n",
    "print(arr[4:])\n",
    "# from 4th index to the last index"
   ]
  },
  {
   "cell_type": "code",
   "execution_count": 44,
   "id": "5b138acf",
   "metadata": {},
   "outputs": [
    {
     "name": "stdout",
     "output_type": "stream",
     "text": [
      "[1 2 3 4]\n"
     ]
    }
   ],
   "source": [
    "arr = np.array([1, 2, 3, 4, 5, 6, 7])\n",
    "\n",
    "print(arr[:4])\n",
    "# from 0 index to 4-1 index"
   ]
  },
  {
   "cell_type": "code",
   "execution_count": 45,
   "id": "5785d588",
   "metadata": {},
   "outputs": [
    {
     "name": "stdout",
     "output_type": "stream",
     "text": [
      "[5 6]\n"
     ]
    }
   ],
   "source": [
    "arr = np.array([1, 2, 3, 4, 5, 6, 7])\n",
    "\n",
    "print(arr[-3:-1])\n",
    "# second argument of slicing is -1 which is not considered so ans in [5,6]"
   ]
  },
  {
   "cell_type": "code",
   "execution_count": 46,
   "id": "04f8fcc8",
   "metadata": {},
   "outputs": [
    {
     "name": "stdout",
     "output_type": "stream",
     "text": [
      "[2 4]\n"
     ]
    }
   ],
   "source": [
    "arr = np.array([1, 2, 3, 4, 5, 6, 7])\n",
    "\n",
    "print(arr[1:5:2])\n",
    "# starting from index 1 upto index 5-1 step 2 so ans is [2,4]\n"
   ]
  },
  {
   "cell_type": "code",
   "execution_count": 50,
   "id": "48b04db5",
   "metadata": {},
   "outputs": [
    {
     "name": "stdout",
     "output_type": "stream",
     "text": [
      "[1 2 3 4 5 6 7]\n"
     ]
    }
   ],
   "source": [
    "arr = np.array([1, 2, 3, 4, 5, 6, 7])\n",
    "\n",
    "print(arr[:])\n",
    "#starting from 0th index upto including last index so ans is all elements"
   ]
  },
  {
   "cell_type": "code",
   "execution_count": 51,
   "id": "665976f4",
   "metadata": {},
   "outputs": [
    {
     "name": "stdout",
     "output_type": "stream",
     "text": [
      "[1 2 3 4 5 6 7]\n"
     ]
    }
   ],
   "source": [
    "arr = np.array([1, 2, 3, 4, 5, 6, 7])\n",
    "\n",
    "print(arr[::])\n",
    "#starting from 0th index upto including last index with no step value  so ans is all elements"
   ]
  },
  {
   "cell_type": "code",
   "execution_count": 52,
   "id": "dda3cf69",
   "metadata": {},
   "outputs": [
    {
     "name": "stdout",
     "output_type": "stream",
     "text": [
      "[1 3 5 7]\n"
     ]
    }
   ],
   "source": [
    "arr = np.array([1, 2, 3, 4, 5, 6, 7])\n",
    "\n",
    "print(arr[::2])\n",
    "#starting from 0th index to including last index with step value 2 so ans is [1,3.5,7]"
   ]
  },
  {
   "cell_type": "code",
   "execution_count": 53,
   "id": "4cad70b4",
   "metadata": {},
   "outputs": [
    {
     "name": "stdout",
     "output_type": "stream",
     "text": [
      "[7 8 9]\n"
     ]
    }
   ],
   "source": [
    "arr = np.array([[1, 2, 3, 4, 5], [6, 7, 8, 9, 10]])\n",
    "\n",
    "print(arr[1, 1:4])\n",
    "# from 1 means second array [6,7,8,9,10] from 1 to index 4-1 so ans is [7,8,9]"
   ]
  },
  {
   "cell_type": "code",
   "execution_count": 58,
   "id": "c5ba3ccd",
   "metadata": {},
   "outputs": [
    {
     "name": "stdout",
     "output_type": "stream",
     "text": [
      "[5]\n"
     ]
    }
   ],
   "source": [
    "arr = np.array([[1, 2, 3, 4, 5], [6, 7, 8, 9, 10]])\n",
    "\n",
    "print(arr[0:1, 4])\n",
    "#from only first array coz second is 1-1 not considered extract the 4th index so ans is [5]"
   ]
  },
  {
   "cell_type": "code",
   "execution_count": 60,
   "id": "8b3280e1",
   "metadata": {},
   "outputs": [
    {
     "name": "stdout",
     "output_type": "stream",
     "text": [
      "[ 5 10]\n"
     ]
    }
   ],
   "source": [
    "arr = np.array([[1, 2, 3, 4, 5], [6, 7, 8, 9, 10]])\n",
    "\n",
    "print(arr[0:2, 4])\n",
    "#from 0th array and from 2-1 = 1st array extract 4th index so ans is [5,10]"
   ]
  },
  {
   "cell_type": "code",
   "execution_count": 61,
   "id": "5d829e81",
   "metadata": {},
   "outputs": [
    {
     "name": "stdout",
     "output_type": "stream",
     "text": [
      "[[2 3 4]\n",
      " [7 8 9]]\n"
     ]
    }
   ],
   "source": [
    "arr = np.array([[1, 2, 3, 4, 5], [6, 7, 8, 9, 10]])\n",
    "\n",
    "print(arr[0:2, 1:4])\n",
    "# from 0th array and from 1st array extract the index from 1 to 4 so ans is [[2,3,4][7,8,9]]"
   ]
  },
  {
   "cell_type": "code",
   "execution_count": 62,
   "id": "481e45db",
   "metadata": {},
   "outputs": [
    {
     "name": "stdout",
     "output_type": "stream",
     "text": [
      "[15 20 25]\n"
     ]
    }
   ],
   "source": [
    "arr = np.array([10, 15, 20, 25, 30, 35, 40])\n",
    "\n",
    "print(arr[1:4])"
   ]
  },
  {
   "cell_type": "code",
   "execution_count": null,
   "id": "0089e262",
   "metadata": {},
   "outputs": [],
   "source": []
  }
 ],
 "metadata": {
  "kernelspec": {
   "display_name": "Python 3 (ipykernel)",
   "language": "python",
   "name": "python3"
  },
  "language_info": {
   "codemirror_mode": {
    "name": "ipython",
    "version": 3
   },
   "file_extension": ".py",
   "mimetype": "text/x-python",
   "name": "python",
   "nbconvert_exporter": "python",
   "pygments_lexer": "ipython3",
   "version": "3.11.5"
  }
 },
 "nbformat": 4,
 "nbformat_minor": 5
}
