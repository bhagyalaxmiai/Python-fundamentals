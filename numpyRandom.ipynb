{
 "cells": [
  {
   "cell_type": "markdown",
   "id": "7111dddd",
   "metadata": {},
   "source": [
    "### numpy Random"
   ]
  },
  {
   "cell_type": "code",
   "execution_count": 1,
   "id": "525c1310",
   "metadata": {},
   "outputs": [],
   "source": [
    "#Random number does NOT mean a different number every time. Random means something that can not be predicted logically."
   ]
  },
  {
   "cell_type": "code",
   "execution_count": null,
   "id": "ced67565",
   "metadata": {},
   "outputs": [],
   "source": [
    "#Random numbers generated through a generation algorithm are called pseudo random."
   ]
  },
  {
   "cell_type": "code",
   "execution_count": 29,
   "id": "47591efe",
   "metadata": {},
   "outputs": [
    {
     "name": "stdout",
     "output_type": "stream",
     "text": [
      "1\n"
     ]
    }
   ],
   "source": [
    "# Generate a random integer from 0 to 10\n",
    "from numpy import random\n",
    "\n",
    "x = random.randint(10)\n",
    "\n",
    "print(x)"
   ]
  },
  {
   "cell_type": "code",
   "execution_count": 35,
   "id": "c6328f4d",
   "metadata": {},
   "outputs": [
    {
     "name": "stdout",
     "output_type": "stream",
     "text": [
      "0.37800048681941123\n"
     ]
    }
   ],
   "source": [
    "#The random module's rand() method returns a random float between 0 and 1.\n",
    "from numpy import random\n",
    "\n",
    "x = random.rand()\n",
    "\n",
    "print(x)"
   ]
  },
  {
   "cell_type": "code",
   "execution_count": 42,
   "id": "4d22649e",
   "metadata": {},
   "outputs": [
    {
     "name": "stdout",
     "output_type": "stream",
     "text": [
      "[8 0 2 8 7]\n"
     ]
    }
   ],
   "source": [
    "#Generate a 1-D array containing 5 random integers from 0 to 10\n",
    "from numpy import random\n",
    "\n",
    "x=random.randint(10, size=(5))\n",
    "\n",
    "print(x)"
   ]
  },
  {
   "cell_type": "code",
   "execution_count": 43,
   "id": "e0c79fea",
   "metadata": {},
   "outputs": [
    {
     "name": "stdout",
     "output_type": "stream",
     "text": [
      "[[93 83 54 13 57]\n",
      " [ 2 25 41 52 27]\n",
      " [33 64 74 33 65]]\n"
     ]
    }
   ],
   "source": [
    "#Generate a 2-D array with 3 rows, each row containing 5 random integers from 0 to 100\n",
    "from numpy import random\n",
    "\n",
    "x = random.randint(100, size=(3, 5))\n",
    "\n",
    "print(x)"
   ]
  },
  {
   "cell_type": "code",
   "execution_count": 51,
   "id": "b4534377",
   "metadata": {},
   "outputs": [
    {
     "name": "stdout",
     "output_type": "stream",
     "text": [
      "7\n"
     ]
    }
   ],
   "source": [
    "#The choice() method allows you to generate a random value based on an array of values.\n",
    "from numpy import random\n",
    "\n",
    "x = random.choice([3, 5, 7, 9])\n",
    "\n",
    "print(x)"
   ]
  },
  {
   "cell_type": "code",
   "execution_count": 52,
   "id": "08561e68",
   "metadata": {},
   "outputs": [
    {
     "name": "stdout",
     "output_type": "stream",
     "text": [
      "[5 5 3 5 5 7 7 7 5 3 7 5 7 7 7 3 7 7 7 7 5 7 7 7 5 7 7 5 7 5 5 7 7 5 5 7 7\n",
      " 3 5 5 5 7 7 5 7 3 7 7 3 7 7 7 7 7 3 7 7 7 7 3 7 7 7 7 5 7 3 5 5 5 7 7 5 7\n",
      " 7 7 7 7 3 7 7 7 7 5 7 7 7 7 5 7 5 5 7 5 7 5 5 3 7 7]\n"
     ]
    }
   ],
   "source": [
    "from numpy import random\n",
    "\n",
    "x = random.choice([3, 5, 7, 9], p=[0.1, 0.3, 0.6, 0.0], size=(100))\n",
    "\n",
    "print(x)"
   ]
  },
  {
   "cell_type": "code",
   "execution_count": 56,
   "id": "56a749d7",
   "metadata": {},
   "outputs": [
    {
     "name": "stdout",
     "output_type": "stream",
     "text": [
      "[5 4 1 3 2]\n"
     ]
    }
   ],
   "source": [
    "#random permutation\n",
    "from numpy import random\n",
    "import numpy as np\n",
    "\n",
    "arr = np.array([1, 2, 3, 4, 5])\n",
    "\n",
    "random.shuffle(arr)\n",
    "\n",
    "print(arr)"
   ]
  },
  {
   "cell_type": "code",
   "execution_count": 64,
   "id": "dc007f08",
   "metadata": {},
   "outputs": [
    {
     "name": "stdout",
     "output_type": "stream",
     "text": [
      "[5 3 1 4 2]\n"
     ]
    }
   ],
   "source": [
    "#Generate a random permutation of elements of following array:\n",
    "\n",
    "from numpy import random\n",
    "import numpy as np\n",
    "\n",
    "arr = np.array([1, 2, 3, 4, 5])\n",
    "\n",
    "print(random.permutation(arr))"
   ]
  },
  {
   "cell_type": "code",
   "execution_count": null,
   "id": "c18dc1d7",
   "metadata": {},
   "outputs": [],
   "source": []
  }
 ],
 "metadata": {
  "kernelspec": {
   "display_name": "Python 3 (ipykernel)",
   "language": "python",
   "name": "python3"
  },
  "language_info": {
   "codemirror_mode": {
    "name": "ipython",
    "version": 3
   },
   "file_extension": ".py",
   "mimetype": "text/x-python",
   "name": "python",
   "nbconvert_exporter": "python",
   "pygments_lexer": "ipython3",
   "version": "3.11.5"
  }
 },
 "nbformat": 4,
 "nbformat_minor": 5
}
