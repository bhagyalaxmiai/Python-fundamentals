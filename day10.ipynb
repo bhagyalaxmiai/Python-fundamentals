{
 "cells": [
  {
   "cell_type": "markdown",
   "id": "289336dd",
   "metadata": {},
   "source": [
    "# Statistics"
   ]
  },
  {
   "cell_type": "markdown",
   "id": "e627ede4",
   "metadata": {},
   "source": [
    "Collecting, organizing, analyzing data\n",
    "data is fact or piece of information"
   ]
  },
  {
   "cell_type": "markdown",
   "id": "0e86950f",
   "metadata": {},
   "source": [
    "### Descriptive statitics : what has happened in the past"
   ]
  },
  {
   "cell_type": "markdown",
   "id": "a2d0c701",
   "metadata": {},
   "source": [
    "it consists of organizing and summarizing the data\n",
    "    1. Measure of central tendency (mean, mode, median)\n",
    "    2. Measure of dispersion (Variance, standard deviation)\n",
    "    3. Different types of distribution (Normal, Binomial)\n",
    "    "
   ]
  },
  {
   "cell_type": "markdown",
   "id": "b03b8454",
   "metadata": {},
   "source": [
    "### Inferential Statistics"
   ]
  },
  {
   "cell_type": "markdown",
   "id": "d023fd0a",
   "metadata": {},
   "source": [
    "it talks about the conclusion\n",
    "\n",
    "    1. Population (N)\n",
    "    \n",
    "    2. Sample (n\n",
    "    \n",
    "    3. Test\n",
    "    \n",
    "        a. Z-test\n",
    "        b. T-test\n",
    "        c. chi-square test\n",
    "        d. ANOVA\n",
    "        e. F-test"
   ]
  },
  {
   "cell_type": "markdown",
   "id": "f3876076",
   "metadata": {},
   "source": [
    "Example :\n",
    "    If i have a data of student in the class of 10th about the height, weight, age, percentage"
   ]
  },
  {
   "cell_type": "markdown",
   "id": "7f8ffe5b",
   "metadata": {},
   "source": [
    "Descriptive :\n",
    "    what is the average weight, age, percentage in the class 10th\n",
    "    \n",
    "Inferential :\n",
    "    Are the weight of the students in the classroom similar to what you expect in the college\n",
    "    "
   ]
  },
  {
   "cell_type": "markdown",
   "id": "70c06a41",
   "metadata": {},
   "source": [
    "### Population (N)\n",
    "All the data related to the problem statement"
   ]
  },
  {
   "cell_type": "markdown",
   "id": "d35c619d",
   "metadata": {},
   "source": [
    "### Sample(n)\n",
    "It is extracted from population with some specified method. Example: Simple random sampling method"
   ]
  },
  {
   "cell_type": "markdown",
   "id": "d488f943",
   "metadata": {},
   "source": [
    "### Types of data\n",
    " \n",
    " \n",
    "1. Quantitative (for understanding say quantity)\n",
    "\n",
    "    a. discrete - whole number, number of bank accounts, number of kids\n",
    "    \n",
    "    b. Continuous - time, number with fraction, complex number\n",
    "    \n",
    "    \n",
    "    \n",
    "2. Qualitative (for understanding say quality)\n",
    "\n",
    "    a. Ordinal : 1. rank - 1st, 2nd, 3rd       2. appreciation - 1. Best  2. Better  3. good\n",
    "    \n",
    "    b. Nomimal : 1. Gender: M,F   2. Color : black, white, brown\n",
    "    "
   ]
  },
  {
   "cell_type": "markdown",
   "id": "1b300cab",
   "metadata": {},
   "source": [
    "### dataset - \n",
    "\n",
    "1. Account_payable               Quantitative, continuous\n",
    "2. Account-receivable            Quantitative, continuous\n",
    "3. revenue                       Quantitative, continuous\n",
    "4. income-tax                    Quantitative, continuous\n",
    "5. sales tax                     Quantitative, continuous\n",
    "6. marketing expense             Quantitative, continuous\n",
    "7. zip code                      Qualitative | Nominal | 411039, 411037, 548985, 525741\n",
    "8. city                          Qualitative | Nominal\n",
    "9. state                         Qualitative | Nominal\n",
    "\n",
    "10.country                       Qualitative | Nominal\n",
    "\n",
    "11.best performing product :     Qualitative | Ordinal | Washing machine, fridge, cooler\n",
    "\n",
    "12.Appreciation                  Qualitative | Ordinal | good better best excellent\n"
   ]
  },
  {
   "cell_type": "markdown",
   "id": "f703708b",
   "metadata": {},
   "source": [
    "### Scales of measurement\n",
    "\n",
    "1. Nominal Scale\n",
    "\n",
    "    a. qualitative\n",
    "    \n",
    "    b. categorical\n",
    "    \n",
    "    c. order does not matter\n",
    "    \n",
    "2. Ordinal Scale\n",
    "\n",
    "    a. qualitative\n",
    "    \n",
    "    b. categorical\n",
    "    \n",
    "    c. order important\n",
    "    \n",
    "3. Discrete Scale\n",
    "\n",
    "    a. whole no | e.g. no. of bank account 1,3, 9\n",
    "    \n",
    "    b. continuous : fraction continuous,  time: 10 hr:14 mins : 30 sec : 12 nsec\n",
    "    \n",
    "    "
   ]
  },
  {
   "cell_type": "code",
   "execution_count": null,
   "id": "b0a8dad9",
   "metadata": {},
   "outputs": [],
   "source": []
  },
  {
   "cell_type": "code",
   "execution_count": null,
   "id": "f27f7d64",
   "metadata": {},
   "outputs": [],
   "source": []
  }
 ],
 "metadata": {
  "kernelspec": {
   "display_name": "Python 3 (ipykernel)",
   "language": "python",
   "name": "python3"
  },
  "language_info": {
   "codemirror_mode": {
    "name": "ipython",
    "version": 3
   },
   "file_extension": ".py",
   "mimetype": "text/x-python",
   "name": "python",
   "nbconvert_exporter": "python",
   "pygments_lexer": "ipython3",
   "version": "3.11.5"
  }
 },
 "nbformat": 4,
 "nbformat_minor": 5
}
