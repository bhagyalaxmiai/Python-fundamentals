{
 "cells": [
  {
   "cell_type": "markdown",
   "id": "26cd306d",
   "metadata": {},
   "source": [
    "### SQL Connection"
   ]
  },
  {
   "cell_type": "code",
   "execution_count": 1,
   "id": "fd867e3f",
   "metadata": {},
   "outputs": [],
   "source": [
    "import mysql.connector as conn\n",
    "import mysql.connector\n",
    "import pandas as pd\n",
    "import warnings\n",
    "warnings.filterwarnings('ignore')"
   ]
  },
  {
   "cell_type": "code",
   "execution_count": 2,
   "id": "3ac87675",
   "metadata": {},
   "outputs": [],
   "source": [
    "myconn = conn.connect(host=\"localhost\", user=\"bhagyalaxmi\", passwd=\"root\")"
   ]
  },
  {
   "cell_type": "code",
   "execution_count": 3,
   "id": "8558ca99",
   "metadata": {},
   "outputs": [],
   "source": [
    "cursor = myconn.cursor()"
   ]
  },
  {
   "cell_type": "markdown",
   "id": "aec8a42a",
   "metadata": {},
   "source": [
    "###  Database and Table Creation"
   ]
  },
  {
   "cell_type": "code",
   "execution_count": 4,
   "id": "32d8d3b2",
   "metadata": {},
   "outputs": [
    {
     "data": {
      "text/plain": [
       "[('db',),\n",
       " ('employee_db',),\n",
       " ('employee_db1',),\n",
       " ('information_schema',),\n",
       " ('mysql',),\n",
       " ('performance_schema',),\n",
       " ('sakila',),\n",
       " ('sys',),\n",
       " ('world',)]"
      ]
     },
     "execution_count": 4,
     "metadata": {},
     "output_type": "execute_result"
    }
   ],
   "source": [
    "cursor.execute('show databases')\n",
    "result = cursor.fetchall()\n",
    "result"
   ]
  },
  {
   "cell_type": "code",
   "execution_count": 5,
   "id": "dc9055b3",
   "metadata": {},
   "outputs": [
    {
     "data": {
      "text/plain": [
       "[('db',),\n",
       " ('employee_db',),\n",
       " ('employee_db1',),\n",
       " ('information_schema',),\n",
       " ('mysql',),\n",
       " ('performance_schema',),\n",
       " ('sakila',),\n",
       " ('sys',),\n",
       " ('world',)]"
      ]
     },
     "execution_count": 5,
     "metadata": {},
     "output_type": "execute_result"
    }
   ],
   "source": [
    "cursor.execute('CREATE DATABASE IF NOT EXISTS employee_db')\n",
    "cursor.execute('show databases')\n",
    "result = cursor.fetchall()\n",
    "result"
   ]
  },
  {
   "cell_type": "code",
   "execution_count": 6,
   "id": "4c423d60",
   "metadata": {},
   "outputs": [
    {
     "data": {
      "text/plain": [
       "[('db',),\n",
       " ('employee_db',),\n",
       " ('employee_db1',),\n",
       " ('information_schema',),\n",
       " ('mysql',),\n",
       " ('performance_schema',),\n",
       " ('sakila',),\n",
       " ('sys',),\n",
       " ('world',)]"
      ]
     },
     "execution_count": 6,
     "metadata": {},
     "output_type": "execute_result"
    }
   ],
   "source": [
    "cursor.execute('CREATE DATABASE IF NOT EXISTS employee_db1')\n",
    "cursor.execute('show databases')\n",
    "result = cursor.fetchall()\n",
    "result"
   ]
  },
  {
   "cell_type": "code",
   "execution_count": 7,
   "id": "fc575cf3",
   "metadata": {},
   "outputs": [
    {
     "data": {
      "text/plain": [
       "[('employees',)]"
      ]
     },
     "execution_count": 7,
     "metadata": {},
     "output_type": "execute_result"
    }
   ],
   "source": [
    "cursor.execute('use employee_db')\n",
    "query = \"\"\"\n",
    "create table if not exists employees(\n",
    "    employee_id INT,\n",
    "    first_name VARCHAR(50),\n",
    "    last_name VARCHAR(50),\n",
    "    salary DECIMAL(8,2),\n",
    "    department VARCHAR(50)\n",
    ");\n",
    "\"\"\"\n",
    "cursor.execute(query)\n",
    "myconn.commit()\n",
    "cursor.execute('show tables')\n",
    "cursor.fetchall()\n",
    "\n"
   ]
  },
  {
   "cell_type": "markdown",
   "id": "acd14236",
   "metadata": {},
   "source": [
    "### Table Creation with Constraints\n",
    "\n",
    "Description:\n",
    "Design a table named 'products' for storing product information. The table should have the following fields:\n",
    "- product_id (integer, primary key)\n",
    "- product_name (string, max length 100)\n",
    "- price (decimal with 2 decimal places, not null)\n",
    "- stock_quantity (integer, not null, default 0)\n",
    "- category (string, max length 50)"
   ]
  },
  {
   "cell_type": "code",
   "execution_count": 9,
   "id": "33d3e458",
   "metadata": {},
   "outputs": [
    {
     "data": {
      "text/plain": [
       "[('employees',), ('products',)]"
      ]
     },
     "execution_count": 9,
     "metadata": {},
     "output_type": "execute_result"
    }
   ],
   "source": [
    "cursor.execute('USE employee_db')\n",
    "\n",
    "query_create_table_products = \"\"\"\n",
    "CREATE TABLE IF NOT EXISTS products (\n",
    "    product_id INT PRIMARY KEY,\n",
    "    product_name VARCHAR(100),\n",
    "    price DECIMAL(8,2) NOT NULL,\n",
    "    stock_quantity INT NOT NULL DEFAULT 0,\n",
    "    category VARCHAR(50)\n",
    ");\n",
    "\"\"\"\n",
    "\n",
    "cursor.execute(query_create_table_products)\n",
    "myconn.commit()\n",
    "\n",
    "cursor.execute('show tables')\n",
    "cursor.fetchall()"
   ]
  },
  {
   "cell_type": "markdown",
   "id": "f18ab244",
   "metadata": {},
   "source": [
    "### Insert Records into 'employees' Table\n",
    "Description: Given the 'employees' table with fields:\n",
    "- employee_id (integer)\n",
    "- first_name (string, max length 50)\n",
    "- last_name (string, max length 50)\n",
    "- salary (decimal with 2 decimal places)\n",
    "- department (string, max length 50)\n",
    "Insert 5 records into the 'employees' table with the following details:\n",
    "1. Employee ID: 101, First Name: 'Ananya', Last Name: 'Kale', Salary: 60000.00, Department: 'HR'\n",
    "2. Employee ID: 102, First Name: 'Pooja', Last Name: 'Patil', Salary: 75000.50, Department: 'IT'\n",
    "3. Employee ID: 103, First Name: 'Anita', Last Name: 'Wagh', Salary: 80000.25, Department: 'Finance'\n",
    "4. Employee ID: 104, First Name: 'Shital', Last Name: 'Dhongade', Salary: 70000.75, Department: 'Marketing'\n",
    "5. Employee ID: 105, First Name: 'Shweta', Last Name: 'Panchal', Salary: 90000.50, Department: 'Sales'"
   ]
  },
  {
   "cell_type": "code",
   "execution_count": 10,
   "id": "4c689f26",
   "metadata": {},
   "outputs": [
    {
     "name": "stdout",
     "output_type": "stream",
     "text": [
      "Inserted Records:\n"
     ]
    },
    {
     "data": {
      "text/html": [
       "<div>\n",
       "<style scoped>\n",
       "    .dataframe tbody tr th:only-of-type {\n",
       "        vertical-align: middle;\n",
       "    }\n",
       "\n",
       "    .dataframe tbody tr th {\n",
       "        vertical-align: top;\n",
       "    }\n",
       "\n",
       "    .dataframe thead th {\n",
       "        text-align: right;\n",
       "    }\n",
       "</style>\n",
       "<table border=\"1\" class=\"dataframe\">\n",
       "  <thead>\n",
       "    <tr style=\"text-align: right;\">\n",
       "      <th></th>\n",
       "      <th>employee_id</th>\n",
       "      <th>first_name</th>\n",
       "      <th>last_name</th>\n",
       "      <th>salary</th>\n",
       "      <th>department</th>\n",
       "    </tr>\n",
       "  </thead>\n",
       "  <tbody>\n",
       "    <tr>\n",
       "      <th>0</th>\n",
       "      <td>101</td>\n",
       "      <td>Ananya</td>\n",
       "      <td>Kale</td>\n",
       "      <td>60000.00</td>\n",
       "      <td>HR</td>\n",
       "    </tr>\n",
       "    <tr>\n",
       "      <th>1</th>\n",
       "      <td>102</td>\n",
       "      <td>Pooja</td>\n",
       "      <td>Patil</td>\n",
       "      <td>75000.50</td>\n",
       "      <td>IT</td>\n",
       "    </tr>\n",
       "    <tr>\n",
       "      <th>2</th>\n",
       "      <td>103</td>\n",
       "      <td>Anita</td>\n",
       "      <td>Wagh</td>\n",
       "      <td>80000.25</td>\n",
       "      <td>Finance</td>\n",
       "    </tr>\n",
       "    <tr>\n",
       "      <th>3</th>\n",
       "      <td>104</td>\n",
       "      <td>Shital</td>\n",
       "      <td>Dhongade</td>\n",
       "      <td>70000.75</td>\n",
       "      <td>Marketing</td>\n",
       "    </tr>\n",
       "    <tr>\n",
       "      <th>4</th>\n",
       "      <td>105</td>\n",
       "      <td>Shweta</td>\n",
       "      <td>Panchal</td>\n",
       "      <td>90000.50</td>\n",
       "      <td>Sales</td>\n",
       "    </tr>\n",
       "  </tbody>\n",
       "</table>\n",
       "</div>"
      ],
      "text/plain": [
       "   employee_id first_name last_name    salary department\n",
       "0          101     Ananya      Kale  60000.00         HR\n",
       "1          102      Pooja     Patil  75000.50         IT\n",
       "2          103      Anita      Wagh  80000.25    Finance\n",
       "3          104     Shital  Dhongade  70000.75  Marketing\n",
       "4          105     Shweta   Panchal  90000.50      Sales"
      ]
     },
     "execution_count": 10,
     "metadata": {},
     "output_type": "execute_result"
    }
   ],
   "source": [
    "# Use the 'employee_db' database\n",
    "cursor.execute('USE employee_db')\n",
    "\n",
    "# Insert 5 records into the 'employees' table with the provided data\n",
    "query_insert_records = \"\"\"\n",
    "INSERT INTO employees (employee_id, first_name, last_name, salary, department)\n",
    "VALUES\n",
    "    (101, 'Ananya', 'Kale', 60000.00, 'HR'),\n",
    "    (102, 'Pooja', 'Patil', 75000.50, 'IT'),\n",
    "    (103, 'Anita', 'Wagh', 80000.25, 'Finance'),\n",
    "    (104, 'Shital', 'Dhongade', 70000.75, 'Marketing'),\n",
    "    (105, 'Shweta', 'Panchal', 90000.50, 'Sales');\n",
    "\"\"\"\n",
    "\n",
    "cursor.execute(query_insert_records)\n",
    "\n",
    "# Commit the changes\n",
    "myconn.commit()\n",
    "\n",
    "# Extract the inserted records into a Pandas DataFrame\n",
    "query_select_records = \"SELECT * FROM employees;\"\n",
    "data_inserted = pd.read_sql_query(query_select_records, myconn)\n",
    "\n",
    "print(\"Inserted Records:\")\n",
    "data_inserted.head()"
   ]
  },
  {
   "cell_type": "markdown",
   "id": "d84f77a2",
   "metadata": {},
   "source": [
    "### Extract Records with Salary Within a Range\n",
    "Description: Given the 'employees' table with fields:\n",
    "- employee_id (integer)\n",
    "- first_name (string, max length 50)\n",
    "- last_name (string, max length 50)\n",
    "- salary (decimal with 2 decimal places)\n",
    "- department (string, max length 50)\n",
    "Extract records from the 'employees' table where the salary falls within the range of 70000 to 80000."
   ]
  },
  {
   "cell_type": "code",
   "execution_count": 11,
   "id": "4fe5cca1",
   "metadata": {},
   "outputs": [
    {
     "name": "stdout",
     "output_type": "stream",
     "text": [
      "Records with Salary Within 70000 to 80000 Range:\n"
     ]
    },
    {
     "data": {
      "text/html": [
       "<div>\n",
       "<style scoped>\n",
       "    .dataframe tbody tr th:only-of-type {\n",
       "        vertical-align: middle;\n",
       "    }\n",
       "\n",
       "    .dataframe tbody tr th {\n",
       "        vertical-align: top;\n",
       "    }\n",
       "\n",
       "    .dataframe thead th {\n",
       "        text-align: right;\n",
       "    }\n",
       "</style>\n",
       "<table border=\"1\" class=\"dataframe\">\n",
       "  <thead>\n",
       "    <tr style=\"text-align: right;\">\n",
       "      <th></th>\n",
       "      <th>employee_id</th>\n",
       "      <th>first_name</th>\n",
       "      <th>last_name</th>\n",
       "      <th>salary</th>\n",
       "      <th>department</th>\n",
       "    </tr>\n",
       "  </thead>\n",
       "  <tbody>\n",
       "    <tr>\n",
       "      <th>0</th>\n",
       "      <td>102</td>\n",
       "      <td>Pooja</td>\n",
       "      <td>Patil</td>\n",
       "      <td>75000.50</td>\n",
       "      <td>IT</td>\n",
       "    </tr>\n",
       "    <tr>\n",
       "      <th>1</th>\n",
       "      <td>104</td>\n",
       "      <td>Shital</td>\n",
       "      <td>Dhongade</td>\n",
       "      <td>70000.75</td>\n",
       "      <td>Marketing</td>\n",
       "    </tr>\n",
       "  </tbody>\n",
       "</table>\n",
       "</div>"
      ],
      "text/plain": [
       "   employee_id first_name last_name    salary department\n",
       "0          102      Pooja     Patil  75000.50         IT\n",
       "1          104     Shital  Dhongade  70000.75  Marketing"
      ]
     },
     "execution_count": 11,
     "metadata": {},
     "output_type": "execute_result"
    }
   ],
   "source": [
    "# Use the 'employee_db' database\n",
    "cursor.execute('USE employee_db')\n",
    "\n",
    "# Extract records with salary within the range of 70000 to 80000\n",
    "query_salary_range = \"\"\"\n",
    "SELECT *\n",
    "FROM employees\n",
    "WHERE salary BETWEEN 70000.00 AND 80000.00;\n",
    "\"\"\"\n",
    "\n",
    "data_salary_range = pd.read_sql_query(query_salary_range, myconn)\n",
    "\n",
    "print(\"Records with Salary Within 70000 to 80000 Range:\")\n",
    "data_salary_range.head()"
   ]
  },
  {
   "cell_type": "markdown",
   "id": "861e98c4",
   "metadata": {},
   "source": [
    "### Delete Records with Specific Conditions\n",
    "Description: Given the 'employees' table with fields:\n",
    "- employee_id (integer)\n",
    "- first_name (string, max length 50)\n",
    "- last_name (string, max length 50)\n",
    "- salary (decimal with 2 decimal places)\n",
    "- department (string, max length 50)\n",
    "Delete records from the 'employees' table where either the first_name is 'Pooja' or the salary is less than 75000."
   ]
  },
  {
   "cell_type": "code",
   "execution_count": 12,
   "id": "dac93cb0",
   "metadata": {},
   "outputs": [
    {
     "name": "stdout",
     "output_type": "stream",
     "text": [
      "Remaining Records:\n"
     ]
    },
    {
     "data": {
      "text/html": [
       "<div>\n",
       "<style scoped>\n",
       "    .dataframe tbody tr th:only-of-type {\n",
       "        vertical-align: middle;\n",
       "    }\n",
       "\n",
       "    .dataframe tbody tr th {\n",
       "        vertical-align: top;\n",
       "    }\n",
       "\n",
       "    .dataframe thead th {\n",
       "        text-align: right;\n",
       "    }\n",
       "</style>\n",
       "<table border=\"1\" class=\"dataframe\">\n",
       "  <thead>\n",
       "    <tr style=\"text-align: right;\">\n",
       "      <th></th>\n",
       "      <th>employee_id</th>\n",
       "      <th>first_name</th>\n",
       "      <th>last_name</th>\n",
       "      <th>salary</th>\n",
       "      <th>department</th>\n",
       "    </tr>\n",
       "  </thead>\n",
       "  <tbody>\n",
       "    <tr>\n",
       "      <th>0</th>\n",
       "      <td>103</td>\n",
       "      <td>Anita</td>\n",
       "      <td>Wagh</td>\n",
       "      <td>80000.25</td>\n",
       "      <td>Finance</td>\n",
       "    </tr>\n",
       "    <tr>\n",
       "      <th>1</th>\n",
       "      <td>105</td>\n",
       "      <td>Shweta</td>\n",
       "      <td>Panchal</td>\n",
       "      <td>90000.50</td>\n",
       "      <td>Sales</td>\n",
       "    </tr>\n",
       "  </tbody>\n",
       "</table>\n",
       "</div>"
      ],
      "text/plain": [
       "   employee_id first_name last_name    salary department\n",
       "0          103      Anita      Wagh  80000.25    Finance\n",
       "1          105     Shweta   Panchal  90000.50      Sales"
      ]
     },
     "execution_count": 12,
     "metadata": {},
     "output_type": "execute_result"
    }
   ],
   "source": [
    "# Use the 'employee_db' database\n",
    "cursor.execute('USE employee_db')\n",
    "\n",
    "# Delete records with specific conditions\n",
    "query_delete_records = \"\"\"\n",
    "DELETE FROM employees\n",
    "WHERE first_name = 'Pooja' OR salary < 75000.00;\n",
    "\"\"\"\n",
    "\n",
    "cursor.execute(query_delete_records)\n",
    "\n",
    "# Commit the changes\n",
    "myconn.commit()\n",
    "\n",
    "# Verify the deletion by fetching and displaying the remaining data\n",
    "query_select_remaining = \"SELECT * FROM employees;\"\n",
    "data_remaining = pd.read_sql_query(query_select_remaining, myconn)\n",
    "\n",
    "print(\"Remaining Records:\")\n",
    "data_remaining.head()"
   ]
  },
  {
   "cell_type": "markdown",
   "id": "3a0f1c4c",
   "metadata": {},
   "source": [
    "### Given the 'country' table with fields:\n",
    "\n",
    "- Code (string, max length 3)\n",
    "- Name (string, max length 52)\n",
    "- Continent (string, max length 13)\n",
    "- Population (integer)\n",
    "\n",
    "Select the top 5 countries with the highest population"
   ]
  },
  {
   "cell_type": "code",
   "execution_count": 14,
   "id": "28478efe",
   "metadata": {},
   "outputs": [
    {
     "name": "stdout",
     "output_type": "stream",
     "text": [
      "Top 5 Countries by Population:\n"
     ]
    },
    {
     "data": {
      "text/html": [
       "<div>\n",
       "<style scoped>\n",
       "    .dataframe tbody tr th:only-of-type {\n",
       "        vertical-align: middle;\n",
       "    }\n",
       "\n",
       "    .dataframe tbody tr th {\n",
       "        vertical-align: top;\n",
       "    }\n",
       "\n",
       "    .dataframe thead th {\n",
       "        text-align: right;\n",
       "    }\n",
       "</style>\n",
       "<table border=\"1\" class=\"dataframe\">\n",
       "  <thead>\n",
       "    <tr style=\"text-align: right;\">\n",
       "      <th></th>\n",
       "      <th>Code</th>\n",
       "      <th>Name</th>\n",
       "      <th>Continent</th>\n",
       "      <th>Region</th>\n",
       "      <th>SurfaceArea</th>\n",
       "      <th>IndepYear</th>\n",
       "      <th>Population</th>\n",
       "      <th>LifeExpectancy</th>\n",
       "      <th>GNP</th>\n",
       "      <th>GNPOld</th>\n",
       "      <th>LocalName</th>\n",
       "      <th>GovernmentForm</th>\n",
       "      <th>HeadOfState</th>\n",
       "      <th>Capital</th>\n",
       "      <th>Code2</th>\n",
       "    </tr>\n",
       "  </thead>\n",
       "  <tbody>\n",
       "    <tr>\n",
       "      <th>0</th>\n",
       "      <td>CHN</td>\n",
       "      <td>China</td>\n",
       "      <td>Asia</td>\n",
       "      <td>Eastern Asia</td>\n",
       "      <td>9572900.0</td>\n",
       "      <td>-1523</td>\n",
       "      <td>1277558000</td>\n",
       "      <td>71.4</td>\n",
       "      <td>982268.0</td>\n",
       "      <td>917719.0</td>\n",
       "      <td>Zhongquo</td>\n",
       "      <td>People'sRepublic</td>\n",
       "      <td>Jiang Zemin</td>\n",
       "      <td>1891</td>\n",
       "      <td>CN</td>\n",
       "    </tr>\n",
       "    <tr>\n",
       "      <th>1</th>\n",
       "      <td>IND</td>\n",
       "      <td>India</td>\n",
       "      <td>Asia</td>\n",
       "      <td>Southern and Central Asia</td>\n",
       "      <td>3287263.0</td>\n",
       "      <td>1947</td>\n",
       "      <td>1013662000</td>\n",
       "      <td>62.5</td>\n",
       "      <td>447114.0</td>\n",
       "      <td>430572.0</td>\n",
       "      <td>Bharat/India</td>\n",
       "      <td>Federal Republic</td>\n",
       "      <td>Kocheril Raman Narayanan</td>\n",
       "      <td>1109</td>\n",
       "      <td>IN</td>\n",
       "    </tr>\n",
       "    <tr>\n",
       "      <th>2</th>\n",
       "      <td>USA</td>\n",
       "      <td>United States</td>\n",
       "      <td>North America</td>\n",
       "      <td>North America</td>\n",
       "      <td>9363520.0</td>\n",
       "      <td>1776</td>\n",
       "      <td>278357000</td>\n",
       "      <td>77.1</td>\n",
       "      <td>8510700.0</td>\n",
       "      <td>8110900.0</td>\n",
       "      <td>United States</td>\n",
       "      <td>Federal Republic</td>\n",
       "      <td>George W. Bush</td>\n",
       "      <td>3813</td>\n",
       "      <td>US</td>\n",
       "    </tr>\n",
       "    <tr>\n",
       "      <th>3</th>\n",
       "      <td>IDN</td>\n",
       "      <td>Indonesia</td>\n",
       "      <td>Asia</td>\n",
       "      <td>Southeast Asia</td>\n",
       "      <td>1904569.0</td>\n",
       "      <td>1945</td>\n",
       "      <td>212107000</td>\n",
       "      <td>68.0</td>\n",
       "      <td>84982.0</td>\n",
       "      <td>215002.0</td>\n",
       "      <td>Indonesia</td>\n",
       "      <td>Republic</td>\n",
       "      <td>Abdurrahman Wahid</td>\n",
       "      <td>939</td>\n",
       "      <td>ID</td>\n",
       "    </tr>\n",
       "    <tr>\n",
       "      <th>4</th>\n",
       "      <td>BRA</td>\n",
       "      <td>Brazil</td>\n",
       "      <td>South America</td>\n",
       "      <td>South America</td>\n",
       "      <td>8547403.0</td>\n",
       "      <td>1822</td>\n",
       "      <td>170115000</td>\n",
       "      <td>62.9</td>\n",
       "      <td>776739.0</td>\n",
       "      <td>804108.0</td>\n",
       "      <td>Brasil</td>\n",
       "      <td>Federal Republic</td>\n",
       "      <td>Fernando Henrique Cardoso</td>\n",
       "      <td>211</td>\n",
       "      <td>BR</td>\n",
       "    </tr>\n",
       "  </tbody>\n",
       "</table>\n",
       "</div>"
      ],
      "text/plain": [
       "  Code           Name      Continent                     Region  SurfaceArea  \\\n",
       "0  CHN          China           Asia               Eastern Asia    9572900.0   \n",
       "1  IND          India           Asia  Southern and Central Asia    3287263.0   \n",
       "2  USA  United States  North America              North America    9363520.0   \n",
       "3  IDN      Indonesia           Asia             Southeast Asia    1904569.0   \n",
       "4  BRA         Brazil  South America              South America    8547403.0   \n",
       "\n",
       "   IndepYear  Population  LifeExpectancy        GNP     GNPOld      LocalName  \\\n",
       "0      -1523  1277558000            71.4   982268.0   917719.0       Zhongquo   \n",
       "1       1947  1013662000            62.5   447114.0   430572.0   Bharat/India   \n",
       "2       1776   278357000            77.1  8510700.0  8110900.0  United States   \n",
       "3       1945   212107000            68.0    84982.0   215002.0      Indonesia   \n",
       "4       1822   170115000            62.9   776739.0   804108.0         Brasil   \n",
       "\n",
       "     GovernmentForm                HeadOfState  Capital Code2  \n",
       "0  People'sRepublic                Jiang Zemin     1891    CN  \n",
       "1  Federal Republic   Kocheril Raman Narayanan     1109    IN  \n",
       "2  Federal Republic             George W. Bush     3813    US  \n",
       "3          Republic          Abdurrahman Wahid      939    ID  \n",
       "4  Federal Republic  Fernando Henrique Cardoso      211    BR  "
      ]
     },
     "execution_count": 14,
     "metadata": {},
     "output_type": "execute_result"
    }
   ],
   "source": [
    "# Use the 'world' database\n",
    "cursor.execute('USE world')\n",
    "\n",
    "# Select the top 5 countries by population\n",
    "query_top_countries = \"\"\"\n",
    "SELECT *\n",
    "FROM country\n",
    "ORDER BY Population DESC\n",
    "LIMIT 5;\n",
    "\"\"\"\n",
    "\n",
    "data_top_countries = pd.read_sql_query(query_top_countries, myconn)\n",
    "\n",
    "print(\"Top 5 Countries by Population:\")\n",
    "data_top_countries.head()"
   ]
  },
  {
   "cell_type": "markdown",
   "id": "9d434ff4",
   "metadata": {},
   "source": [
    "###  Given the 'city' table with fields:\n",
    "\n",
    "ID (integer)\n",
    "Name (string, max length 35)\n",
    "CountryCode (string, max length 3)\n",
    "District (string, max length 20)\n",
    "Population (integer)\n",
    "Select cities where the population is between 500,000 and 1,000,000, ordered by population in descending order."
   ]
  },
  {
   "cell_type": "code",
   "execution_count": 15,
   "id": "b875d6f5",
   "metadata": {},
   "outputs": [
    {
     "name": "stdout",
     "output_type": "stream",
     "text": [
      "Cities with Population Between 500,000 and 1,000,000:\n"
     ]
    },
    {
     "data": {
      "text/html": [
       "<div>\n",
       "<style scoped>\n",
       "    .dataframe tbody tr th:only-of-type {\n",
       "        vertical-align: middle;\n",
       "    }\n",
       "\n",
       "    .dataframe tbody tr th {\n",
       "        vertical-align: top;\n",
       "    }\n",
       "\n",
       "    .dataframe thead th {\n",
       "        text-align: right;\n",
       "    }\n",
       "</style>\n",
       "<table border=\"1\" class=\"dataframe\">\n",
       "  <thead>\n",
       "    <tr style=\"text-align: right;\">\n",
       "      <th></th>\n",
       "      <th>ID</th>\n",
       "      <th>Name</th>\n",
       "      <th>CountryCode</th>\n",
       "      <th>District</th>\n",
       "      <th>Population</th>\n",
       "    </tr>\n",
       "  </thead>\n",
       "  <tbody>\n",
       "    <tr>\n",
       "      <th>0</th>\n",
       "      <td>1786</td>\n",
       "      <td>Amman</td>\n",
       "      <td>JOR</td>\n",
       "      <td>Amman</td>\n",
       "      <td>1000000</td>\n",
       "    </tr>\n",
       "    <tr>\n",
       "      <th>1</th>\n",
       "      <td>3214</td>\n",
       "      <td>Mogadishu</td>\n",
       "      <td>SOM</td>\n",
       "      <td>Banaadir</td>\n",
       "      <td>997000</td>\n",
       "    </tr>\n",
       "    <tr>\n",
       "      <th>2</th>\n",
       "      <td>3592</td>\n",
       "      <td>Volgograd</td>\n",
       "      <td>RUS</td>\n",
       "      <td>Volgograd</td>\n",
       "      <td>993400</td>\n",
       "    </tr>\n",
       "    <tr>\n",
       "      <th>3</th>\n",
       "      <td>1543</td>\n",
       "      <td>Sendai</td>\n",
       "      <td>JPN</td>\n",
       "      <td>Miyagi</td>\n",
       "      <td>989975</td>\n",
       "    </tr>\n",
       "    <tr>\n",
       "      <th>4</th>\n",
       "      <td>2829</td>\n",
       "      <td>Peshawar</td>\n",
       "      <td>PAK</td>\n",
       "      <td>Nothwest Border Prov</td>\n",
       "      <td>988005</td>\n",
       "    </tr>\n",
       "  </tbody>\n",
       "</table>\n",
       "</div>"
      ],
      "text/plain": [
       "     ID       Name CountryCode              District  Population\n",
       "0  1786      Amman         JOR                 Amman     1000000\n",
       "1  3214  Mogadishu         SOM              Banaadir      997000\n",
       "2  3592  Volgograd         RUS             Volgograd      993400\n",
       "3  1543     Sendai         JPN                Miyagi      989975\n",
       "4  2829   Peshawar         PAK  Nothwest Border Prov      988005"
      ]
     },
     "execution_count": 15,
     "metadata": {},
     "output_type": "execute_result"
    }
   ],
   "source": [
    "# Use the 'world' database\n",
    "cursor.execute('USE world')\n",
    "\n",
    "# Select cities with population between 500,000 and 1,000,000\n",
    "query_population_range = \"\"\"\n",
    "SELECT *\n",
    "FROM city\n",
    "WHERE Population BETWEEN 500000 AND 1000000\n",
    "ORDER BY Population DESC;\n",
    "\"\"\"\n",
    "\n",
    "data_population_range = pd.read_sql_query(query_population_range, myconn)\n",
    "\n",
    "print(\"Cities with Population Between 500,000 and 1,000,000:\")\n",
    "data_population_range.head()"
   ]
  },
  {
   "cell_type": "markdown",
   "id": "415f03cd",
   "metadata": {},
   "source": [
    "### Given the 'country' table with fields:\n",
    "- Code (string, max length 3)\n",
    "- Name (string, max length 52)\n",
    "- Continent (string, max length 13)\n",
    "- Population (integer)\n",
    "Select the continent with the highest average population."
   ]
  },
  {
   "cell_type": "code",
   "execution_count": 16,
   "id": "5bf6cd8f",
   "metadata": {},
   "outputs": [
    {
     "name": "stdout",
     "output_type": "stream",
     "text": [
      "Continent with Highest Average Population:\n"
     ]
    },
    {
     "data": {
      "text/html": [
       "<div>\n",
       "<style scoped>\n",
       "    .dataframe tbody tr th:only-of-type {\n",
       "        vertical-align: middle;\n",
       "    }\n",
       "\n",
       "    .dataframe tbody tr th {\n",
       "        vertical-align: top;\n",
       "    }\n",
       "\n",
       "    .dataframe thead th {\n",
       "        text-align: right;\n",
       "    }\n",
       "</style>\n",
       "<table border=\"1\" class=\"dataframe\">\n",
       "  <thead>\n",
       "    <tr style=\"text-align: right;\">\n",
       "      <th></th>\n",
       "      <th>Continent</th>\n",
       "      <th>AvgPopulation</th>\n",
       "    </tr>\n",
       "  </thead>\n",
       "  <tbody>\n",
       "    <tr>\n",
       "      <th>0</th>\n",
       "      <td>Asia</td>\n",
       "      <td>7.264756e+07</td>\n",
       "    </tr>\n",
       "  </tbody>\n",
       "</table>\n",
       "</div>"
      ],
      "text/plain": [
       "  Continent  AvgPopulation\n",
       "0      Asia   7.264756e+07"
      ]
     },
     "execution_count": 16,
     "metadata": {},
     "output_type": "execute_result"
    }
   ],
   "source": [
    "# Use the 'world' database\n",
    "cursor.execute('USE world')\n",
    "\n",
    "# Select the continent with the highest average population\n",
    "query_continent_avg_population = \"\"\"\n",
    "SELECT Continent, AVG(Population) AS AvgPopulation\n",
    "FROM country\n",
    "GROUP BY Continent\n",
    "ORDER BY AvgPopulation DESC\n",
    "LIMIT 1;\n",
    "\"\"\"\n",
    "\n",
    "data_continent_avg_population = pd.read_sql_query(query_continent_avg_population, myconn)\n",
    "\n",
    "print(\"Continent with Highest Average Population:\")\n",
    "data_continent_avg_population.head()"
   ]
  },
  {
   "cell_type": "markdown",
   "id": "d0d27172",
   "metadata": {},
   "source": [
    "### Given the 'country' table with fields:\n",
    "- Code (string, max length 3)\n",
    "- Name (string, max length 52)\n",
    "- Continent (string, max length 13)\n",
    "- Population (integer)\n",
    "Select the top 3 continents with the highest total population."
   ]
  },
  {
   "cell_type": "code",
   "execution_count": 17,
   "id": "594262d8",
   "metadata": {},
   "outputs": [
    {
     "name": "stdout",
     "output_type": "stream",
     "text": [
      "Top 3 Continents by Total Population:\n"
     ]
    },
    {
     "data": {
      "text/html": [
       "<div>\n",
       "<style scoped>\n",
       "    .dataframe tbody tr th:only-of-type {\n",
       "        vertical-align: middle;\n",
       "    }\n",
       "\n",
       "    .dataframe tbody tr th {\n",
       "        vertical-align: top;\n",
       "    }\n",
       "\n",
       "    .dataframe thead th {\n",
       "        text-align: right;\n",
       "    }\n",
       "</style>\n",
       "<table border=\"1\" class=\"dataframe\">\n",
       "  <thead>\n",
       "    <tr style=\"text-align: right;\">\n",
       "      <th></th>\n",
       "      <th>Continent</th>\n",
       "      <th>TotalPopulation</th>\n",
       "    </tr>\n",
       "  </thead>\n",
       "  <tbody>\n",
       "    <tr>\n",
       "      <th>0</th>\n",
       "      <td>Asia</td>\n",
       "      <td>3.705026e+09</td>\n",
       "    </tr>\n",
       "    <tr>\n",
       "      <th>1</th>\n",
       "      <td>Africa</td>\n",
       "      <td>7.844750e+08</td>\n",
       "    </tr>\n",
       "    <tr>\n",
       "      <th>2</th>\n",
       "      <td>Europe</td>\n",
       "      <td>7.300746e+08</td>\n",
       "    </tr>\n",
       "  </tbody>\n",
       "</table>\n",
       "</div>"
      ],
      "text/plain": [
       "  Continent  TotalPopulation\n",
       "0      Asia     3.705026e+09\n",
       "1    Africa     7.844750e+08\n",
       "2    Europe     7.300746e+08"
      ]
     },
     "execution_count": 17,
     "metadata": {},
     "output_type": "execute_result"
    }
   ],
   "source": [
    "# Use the 'world' database\n",
    "cursor.execute('USE world')\n",
    "\n",
    "# Select the top 3 continents by total population\n",
    "query_top_continents = \"\"\"\n",
    "SELECT Continent, SUM(Population) AS TotalPopulation\n",
    "FROM country\n",
    "GROUP BY Continent\n",
    "ORDER BY TotalPopulation DESC\n",
    "LIMIT 3;\n",
    "\"\"\"\n",
    "\n",
    "data_top_continents = pd.read_sql_query(query_top_continents, myconn)\n",
    "\n",
    "print(\"Top 3 Continents by Total Population:\")\n",
    "data_top_continents.head()"
   ]
  },
  {
   "cell_type": "markdown",
   "id": "cba2fa68",
   "metadata": {},
   "source": [
    "### Given the 'city' table with fields:\n",
    "- ID (integer)\n",
    "- Name (string, max length 35)\n",
    "- CountryCode (string, max length 3)\n",
    "- District (string, max length 20)\n",
    "- Population (integer)\n",
    "Select cities with a population greater than the average population"
   ]
  },
  {
   "cell_type": "code",
   "execution_count": 19,
   "id": "1147b3f1",
   "metadata": {},
   "outputs": [
    {
     "name": "stdout",
     "output_type": "stream",
     "text": [
      "Cities with Population Greater Than Average:\n"
     ]
    },
    {
     "data": {
      "text/html": [
       "<div>\n",
       "<style scoped>\n",
       "    .dataframe tbody tr th:only-of-type {\n",
       "        vertical-align: middle;\n",
       "    }\n",
       "\n",
       "    .dataframe tbody tr th {\n",
       "        vertical-align: top;\n",
       "    }\n",
       "\n",
       "    .dataframe thead th {\n",
       "        text-align: right;\n",
       "    }\n",
       "</style>\n",
       "<table border=\"1\" class=\"dataframe\">\n",
       "  <thead>\n",
       "    <tr style=\"text-align: right;\">\n",
       "      <th></th>\n",
       "      <th>ID</th>\n",
       "      <th>Name</th>\n",
       "      <th>CountryCode</th>\n",
       "      <th>District</th>\n",
       "      <th>Population</th>\n",
       "    </tr>\n",
       "  </thead>\n",
       "  <tbody>\n",
       "    <tr>\n",
       "      <th>0</th>\n",
       "      <td>1</td>\n",
       "      <td>Kabul</td>\n",
       "      <td>AFG</td>\n",
       "      <td>Kabol</td>\n",
       "      <td>1780000</td>\n",
       "    </tr>\n",
       "    <tr>\n",
       "      <th>1</th>\n",
       "      <td>5</td>\n",
       "      <td>Amsterdam</td>\n",
       "      <td>NLD</td>\n",
       "      <td>Noord-Holland</td>\n",
       "      <td>731200</td>\n",
       "    </tr>\n",
       "    <tr>\n",
       "      <th>2</th>\n",
       "      <td>6</td>\n",
       "      <td>Rotterdam</td>\n",
       "      <td>NLD</td>\n",
       "      <td>Zuid-Holland</td>\n",
       "      <td>593321</td>\n",
       "    </tr>\n",
       "    <tr>\n",
       "      <th>3</th>\n",
       "      <td>7</td>\n",
       "      <td>Haag</td>\n",
       "      <td>NLD</td>\n",
       "      <td>Zuid-Holland</td>\n",
       "      <td>440900</td>\n",
       "    </tr>\n",
       "    <tr>\n",
       "      <th>4</th>\n",
       "      <td>35</td>\n",
       "      <td>Alger</td>\n",
       "      <td>DZA</td>\n",
       "      <td>Alger</td>\n",
       "      <td>2168000</td>\n",
       "    </tr>\n",
       "  </tbody>\n",
       "</table>\n",
       "</div>"
      ],
      "text/plain": [
       "   ID       Name CountryCode       District  Population\n",
       "0   1      Kabul         AFG          Kabol     1780000\n",
       "1   5  Amsterdam         NLD  Noord-Holland      731200\n",
       "2   6  Rotterdam         NLD   Zuid-Holland      593321\n",
       "3   7       Haag         NLD   Zuid-Holland      440900\n",
       "4  35      Alger         DZA          Alger     2168000"
      ]
     },
     "execution_count": 19,
     "metadata": {},
     "output_type": "execute_result"
    }
   ],
   "source": [
    "# Use the 'world' database\n",
    "cursor.execute('USE world')\n",
    "\n",
    "# Select cities with population greater than the average population\n",
    "query_population_above_avg = \"\"\"\n",
    "SELECT *\n",
    "FROM city\n",
    "WHERE Population > (SELECT AVG(Population) FROM city);\n",
    "\"\"\"\n",
    "\n",
    "data_population_above_avg = pd.read_sql_query(query_population_above_avg, myconn)\n",
    "\n",
    "print(\"Cities with Population Greater Than Average:\")\n",
    "data_population_above_avg.head()"
   ]
  },
  {
   "cell_type": "code",
   "execution_count": null,
   "id": "2df2d581",
   "metadata": {},
   "outputs": [],
   "source": []
  }
 ],
 "metadata": {
  "kernelspec": {
   "display_name": "Python 3 (ipykernel)",
   "language": "python",
   "name": "python3"
  },
  "language_info": {
   "codemirror_mode": {
    "name": "ipython",
    "version": 3
   },
   "file_extension": ".py",
   "mimetype": "text/x-python",
   "name": "python",
   "nbconvert_exporter": "python",
   "pygments_lexer": "ipython3",
   "version": "3.11.5"
  }
 },
 "nbformat": 4,
 "nbformat_minor": 5
}
