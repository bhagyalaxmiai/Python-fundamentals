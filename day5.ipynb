{
 "cells": [
  {
   "cell_type": "markdown",
   "id": "b3da7983",
   "metadata": {},
   "source": [
    "### Object Oriented Programming"
   ]
  },
  {
   "cell_type": "code",
   "execution_count": 1,
   "id": "cc6c32a9",
   "metadata": {},
   "outputs": [],
   "source": [
    "class Emp:\n",
    "    pass\n"
   ]
  },
  {
   "cell_type": "markdown",
   "id": "830e56c9",
   "metadata": {},
   "source": [
    "#### Define the class"
   ]
  },
  {
   "cell_type": "code",
   "execution_count": 9,
   "id": "3238ced9",
   "metadata": {},
   "outputs": [],
   "source": [
    "class Student:\n",
    "    def introduction(self):\n",
    "        print(f\"my name is {self.name}\")\n",
    "# self is not a keyword and you can use any word for the self. but use self for maintaining standard code"
   ]
  },
  {
   "cell_type": "markdown",
   "id": "5b377566",
   "metadata": {},
   "source": [
    "#### create Object1"
   ]
  },
  {
   "cell_type": "code",
   "execution_count": 32,
   "id": "21ad712b",
   "metadata": {},
   "outputs": [],
   "source": [
    "obj1 = Student()"
   ]
  },
  {
   "cell_type": "code",
   "execution_count": 33,
   "id": "da4cdffa",
   "metadata": {},
   "outputs": [],
   "source": [
    "obj1.name = 'Veena'"
   ]
  },
  {
   "cell_type": "code",
   "execution_count": 34,
   "id": "a9228e55",
   "metadata": {},
   "outputs": [
    {
     "name": "stdout",
     "output_type": "stream",
     "text": [
      "my name is Veena\n"
     ]
    }
   ],
   "source": [
    "obj1.introduction()"
   ]
  },
  {
   "cell_type": "markdown",
   "id": "79529879",
   "metadata": {},
   "source": [
    "#### create object2"
   ]
  },
  {
   "cell_type": "code",
   "execution_count": 13,
   "id": "2f3c8a6e",
   "metadata": {},
   "outputs": [],
   "source": [
    "obj2 = Student()"
   ]
  },
  {
   "cell_type": "code",
   "execution_count": 14,
   "id": "2205b70f",
   "metadata": {},
   "outputs": [],
   "source": [
    "obj2.name = 'Apurva'"
   ]
  },
  {
   "cell_type": "code",
   "execution_count": 15,
   "id": "6f75ee68",
   "metadata": {},
   "outputs": [
    {
     "name": "stdout",
     "output_type": "stream",
     "text": [
      "my name is Apurva\n"
     ]
    }
   ],
   "source": [
    "obj2.introduction()"
   ]
  },
  {
   "cell_type": "code",
   "execution_count": 16,
   "id": "cffa9950",
   "metadata": {},
   "outputs": [],
   "source": [
    "# self is not a keyword and you can use any word for the self. but use self for maintaining standard code"
   ]
  },
  {
   "cell_type": "code",
   "execution_count": 17,
   "id": "59d20816",
   "metadata": {},
   "outputs": [
    {
     "data": {
      "text/plain": [
       "2665997146064"
      ]
     },
     "execution_count": 17,
     "metadata": {},
     "output_type": "execute_result"
    }
   ],
   "source": [
    "id(obj1)  # address of obj1"
   ]
  },
  {
   "cell_type": "code",
   "execution_count": 18,
   "id": "39c3a638",
   "metadata": {},
   "outputs": [
    {
     "data": {
      "text/plain": [
       "2665996941136"
      ]
     },
     "execution_count": 18,
     "metadata": {},
     "output_type": "execute_result"
    }
   ],
   "source": [
    "id(obj2)  # address of obj2"
   ]
  },
  {
   "cell_type": "code",
   "execution_count": 28,
   "id": "358800c2",
   "metadata": {},
   "outputs": [
    {
     "name": "stdout",
     "output_type": "stream",
     "text": [
      "Sachin 25 20\n"
     ]
    }
   ],
   "source": [
    "class Student1:\n",
    "    \n",
    "    def introduction(self, name ,age, rno):\n",
    "        print(name, age, rno)\n",
    "        \n",
    "obj1 = Student1()\n",
    "obj1.introduction(name='Sachin', age=25, rno=20)"
   ]
  },
  {
   "cell_type": "code",
   "execution_count": 29,
   "id": "aa8ceb0e",
   "metadata": {},
   "outputs": [
    {
     "name": "stdout",
     "output_type": "stream",
     "text": [
      "Sachin 28 70\n"
     ]
    }
   ],
   "source": [
    "obj1 = Student1()\n",
    "obj1.introduction(name='Sachin', rno=70, age=28)"
   ]
  },
  {
   "cell_type": "code",
   "execution_count": 30,
   "id": "7daa1bea",
   "metadata": {},
   "outputs": [
    {
     "data": {
      "text/plain": [
       "['__class__',\n",
       " '__delattr__',\n",
       " '__dict__',\n",
       " '__dir__',\n",
       " '__doc__',\n",
       " '__eq__',\n",
       " '__format__',\n",
       " '__ge__',\n",
       " '__getattribute__',\n",
       " '__getstate__',\n",
       " '__gt__',\n",
       " '__hash__',\n",
       " '__init__',\n",
       " '__init_subclass__',\n",
       " '__le__',\n",
       " '__lt__',\n",
       " '__module__',\n",
       " '__ne__',\n",
       " '__new__',\n",
       " '__reduce__',\n",
       " '__reduce_ex__',\n",
       " '__repr__',\n",
       " '__setattr__',\n",
       " '__sizeof__',\n",
       " '__str__',\n",
       " '__subclasshook__',\n",
       " '__weakref__',\n",
       " 'introduction']"
      ]
     },
     "execution_count": 30,
     "metadata": {},
     "output_type": "execute_result"
    }
   ],
   "source": [
    "dir(obj1) # describe obj1"
   ]
  },
  {
   "cell_type": "code",
   "execution_count": 35,
   "id": "719ac7c1",
   "metadata": {},
   "outputs": [
    {
     "data": {
      "text/plain": [
       "{'name': 'Veena'}"
      ]
     },
     "execution_count": 35,
     "metadata": {},
     "output_type": "execute_result"
    }
   ],
   "source": [
    "obj1.__dict__ # to display the contents"
   ]
  },
  {
   "cell_type": "markdown",
   "id": "7b6b3abb",
   "metadata": {},
   "source": [
    "### Constructor"
   ]
  },
  {
   "cell_type": "code",
   "execution_count": 45,
   "id": "69229f5d",
   "metadata": {},
   "outputs": [],
   "source": [
    "class Person:\n",
    "    \n",
    "    def __init__(self, name, gender, education, profession):\n",
    "        self.name = name\n",
    "        self.gender = gender\n",
    "        self.education = education\n",
    "        self.profession = profession\n",
    "    \n",
    "    def show(self):\n",
    "        print(f\" Name : {self.name}\")\n",
    "        print(f\" Education : {self.education}\")\n",
    "        print(f\" Gender : {self.gender}\")\n",
    "        print(f\" Profession : {self.profession}\")"
   ]
  },
  {
   "cell_type": "code",
   "execution_count": 46,
   "id": "860d2460",
   "metadata": {},
   "outputs": [],
   "source": [
    "obj1 = Person(name='Ashish', gender = 'Male', education = \"MS in AI\", profession ='AI')"
   ]
  },
  {
   "cell_type": "code",
   "execution_count": 47,
   "id": "2815ff8a",
   "metadata": {},
   "outputs": [
    {
     "name": "stdout",
     "output_type": "stream",
     "text": [
      " Name : Ashish\n",
      " Education : MS in AI\n",
      " Gender : Male\n",
      " Profession : AI\n"
     ]
    }
   ],
   "source": [
    "obj1.show()"
   ]
  },
  {
   "cell_type": "code",
   "execution_count": 52,
   "id": "ab1a71bd",
   "metadata": {},
   "outputs": [],
   "source": [
    "class Number:\n",
    "    \n",
    "    def __init__(self):\n",
    "        self.a=0\n",
    "        self.b=0\n",
    "        self.c=0\n",
    "        \n",
    "    def calculate(self):\n",
    "        self.a=1\n",
    "        self.b=2\n",
    "        self.c=3\n",
    "        \n",
    "    def show(self):\n",
    "        print(f\"a= {self.a}  b={self.b} c={self.c}\")\n",
    "    "
   ]
  },
  {
   "cell_type": "code",
   "execution_count": 53,
   "id": "33306d39",
   "metadata": {},
   "outputs": [],
   "source": [
    " obj1=Number()"
   ]
  },
  {
   "cell_type": "code",
   "execution_count": 54,
   "id": "0fd63afe",
   "metadata": {},
   "outputs": [
    {
     "name": "stdout",
     "output_type": "stream",
     "text": [
      "a= 0  b=0 c=0\n"
     ]
    }
   ],
   "source": [
    "obj1.show()"
   ]
  },
  {
   "cell_type": "code",
   "execution_count": 55,
   "id": "8df9fd5a",
   "metadata": {},
   "outputs": [],
   "source": [
    "obj1.calculate()"
   ]
  },
  {
   "cell_type": "code",
   "execution_count": 56,
   "id": "5182ab1e",
   "metadata": {},
   "outputs": [
    {
     "name": "stdout",
     "output_type": "stream",
     "text": [
      "a= 1  b=2 c=3\n"
     ]
    }
   ],
   "source": [
    "obj1.show()"
   ]
  },
  {
   "cell_type": "code",
   "execution_count": 66,
   "id": "9b0e2106",
   "metadata": {},
   "outputs": [
    {
     "name": "stdout",
     "output_type": "stream",
     "text": [
      "Addition is 22\n"
     ]
    }
   ],
   "source": [
    "class Calculate_sum():\n",
    "    \n",
    "    def __init__(self,a,b,c,d):\n",
    "        self.a = a\n",
    "        self.b = b\n",
    "        self.c = c\n",
    "        self.d = d\n",
    "        \n",
    "    def add(self):\n",
    "        sum = self.a + self.b + self.c +self.d\n",
    "        print(f\"Addition is {sum}\")\n",
    "        \n",
    "sum = Calculate_sum(a=4,b=5,c=6,d=7)\n",
    "    \n",
    "sum.add()"
   ]
  },
  {
   "cell_type": "code",
   "execution_count": 108,
   "id": "1484527e",
   "metadata": {},
   "outputs": [],
   "source": [
    "class Circle:\n",
    "    pi = 3.14 # can be shared with other objects\n",
    "    \n",
    "    def __init__(self, radius):\n",
    "        self.radius = radius\n",
    "        \n",
    "    \n",
    "    def area(self):\n",
    "        circleArea = self.pi * self.radius **2\n",
    "        print(f\"Area of circle with radius {self.radius} is {round(circleArea,3)}\")\n",
    "        \n",
    "    def circumference(self):\n",
    "        circleCircumference = 2 * self.pi * self.radius\n",
    "        print(f\"Circumference of circle with radius {self.radius} is {round(circleCircumference,4)}\")\n",
    "    "
   ]
  },
  {
   "cell_type": "code",
   "execution_count": 109,
   "id": "7a23d9dd",
   "metadata": {},
   "outputs": [],
   "source": [
    "obj = Circle(55.3)"
   ]
  },
  {
   "cell_type": "code",
   "execution_count": 110,
   "id": "8d604e66",
   "metadata": {},
   "outputs": [
    {
     "data": {
      "text/plain": [
       "{'radius': 55.3}"
      ]
     },
     "execution_count": 110,
     "metadata": {},
     "output_type": "execute_result"
    }
   ],
   "source": [
    "obj.__dict__"
   ]
  },
  {
   "cell_type": "code",
   "execution_count": 111,
   "id": "560874f3",
   "metadata": {},
   "outputs": [
    {
     "name": "stdout",
     "output_type": "stream",
     "text": [
      "Area of circle with radius 55.3 is 9602.403\n"
     ]
    }
   ],
   "source": [
    "obj.area()"
   ]
  },
  {
   "cell_type": "code",
   "execution_count": 112,
   "id": "d6076b54",
   "metadata": {},
   "outputs": [
    {
     "name": "stdout",
     "output_type": "stream",
     "text": [
      "Circumference of circle with radius 55.3 is 347.284\n"
     ]
    }
   ],
   "source": [
    "obj.circumference()"
   ]
  },
  {
   "cell_type": "code",
   "execution_count": 114,
   "id": "e1ba92ad",
   "metadata": {},
   "outputs": [
    {
     "data": {
      "text/plain": [
       "mappingproxy({'__module__': '__main__',\n",
       "              'pi': 3.14,\n",
       "              '__init__': <function __main__.Circle.__init__(self, radius)>,\n",
       "              'area': <function __main__.Circle.area(self)>,\n",
       "              'circumference': <function __main__.Circle.circumference(self)>,\n",
       "              '__dict__': <attribute '__dict__' of 'Circle' objects>,\n",
       "              '__weakref__': <attribute '__weakref__' of 'Circle' objects>,\n",
       "              '__doc__': None})"
      ]
     },
     "execution_count": 114,
     "metadata": {},
     "output_type": "execute_result"
    }
   ],
   "source": [
    "Circle.__dict__"
   ]
  },
  {
   "cell_type": "markdown",
   "id": "48c46d86",
   "metadata": {},
   "source": [
    "####  Write a class called BankAccount that has the following:\\n\",\n",
    "####      A field called name that stores the name of the account holder.\\n\",\n",
    "####      A field called amount that stores the amount of money in the account.\\n\",\n",
    "####      A field called interest_rate that stores the account’s interest rate (as a percentage).\\n\",\n",
    "####      A constructor that just sets the values of the three fields above.\\n\",\n",
    "####      A method called apply_interest() that takes no arguments and applies the interest to the\\n\",\n",
    "####     account. It should just modify the amount field and not return anything. For instance, if the\\n\",\n",
    "####     account has $1000 in it and the interest rate is 3% \\n\",\n",
    "####   then the amount variable should be changed to $1030 ($1000 + 3% interest).\\n\",\n",
    "####   Then test the class, by creating a new BankAccount object for a user named Juan De Hattatime who\\n\",\n",
    "####   has $1000 at 3% interest. Then do the following:\\n\",\n",
    "####     Use the apply_interest() method to apply the imnterest to the account.\\n\",\n",
    "####     Print out how much money is now in the account after applying the interest.\\n\",\n",
    "####     Change the account’s interest rate to 2%.\\n\",\n",
    "####     Use the apply_interest() method to apply the interest to the account again.\\n\",\n",
    "####     Print out how much money is now in the account after applying the interest again.\n",
    "    "
   ]
  },
  {
   "cell_type": "code",
   "execution_count": 129,
   "id": "a521a06d",
   "metadata": {},
   "outputs": [],
   "source": [
    "class BankAccount:\n",
    "    \n",
    "    def __init__(self, name,amount,interestRate):\n",
    "        self.name = name\n",
    "        self.amount = amount\n",
    "        self.interestRate = interestRate\n",
    "        \n",
    "    def applyInterest(self):\n",
    "        self.amount = self.amount + (self.amount * self.interestRate /100)\n",
    "        \n",
    "    def balance(self):\n",
    "        print(f\"The account balance of {self.name} is {self.amount}\")\n",
    "        \n",
    "    def accountDetails(self):\n",
    "        print(f\" Name : {self.name}\\n Balance : {self.amount} \\n Interest Rate : {self.interestRate} \")"
   ]
  },
  {
   "cell_type": "code",
   "execution_count": 130,
   "id": "077c416f",
   "metadata": {},
   "outputs": [],
   "source": [
    "obj = BankAccount('abc', 120000, 3)"
   ]
  },
  {
   "cell_type": "code",
   "execution_count": 131,
   "id": "53d77894",
   "metadata": {},
   "outputs": [
    {
     "data": {
      "text/plain": [
       "{'name': 'abc', 'amount': 120000, 'interestRate': 3}"
      ]
     },
     "execution_count": 131,
     "metadata": {},
     "output_type": "execute_result"
    }
   ],
   "source": [
    "obj.__dict__"
   ]
  },
  {
   "cell_type": "code",
   "execution_count": 132,
   "id": "b25ba840",
   "metadata": {},
   "outputs": [],
   "source": [
    "obj.applyInterest()"
   ]
  },
  {
   "cell_type": "code",
   "execution_count": 133,
   "id": "227db3fd",
   "metadata": {},
   "outputs": [
    {
     "name": "stdout",
     "output_type": "stream",
     "text": [
      " Name : abc\n",
      " Balance : 123600.0 \n",
      " Interest Rate : 3 \n"
     ]
    }
   ],
   "source": [
    "obj.accountDetails()"
   ]
  },
  {
   "cell_type": "code",
   "execution_count": 134,
   "id": "ad57cedb",
   "metadata": {},
   "outputs": [
    {
     "name": "stdout",
     "output_type": "stream",
     "text": [
      "The account balance of abc is 123600.0\n"
     ]
    }
   ],
   "source": [
    "obj.balance()"
   ]
  },
  {
   "cell_type": "code",
   "execution_count": 135,
   "id": "9a83bb79",
   "metadata": {},
   "outputs": [],
   "source": [
    "obj.interestRate = 2"
   ]
  },
  {
   "cell_type": "code",
   "execution_count": 136,
   "id": "0d9696fa",
   "metadata": {},
   "outputs": [
    {
     "data": {
      "text/plain": [
       "{'name': 'abc', 'amount': 123600.0, 'interestRate': 2}"
      ]
     },
     "execution_count": 136,
     "metadata": {},
     "output_type": "execute_result"
    }
   ],
   "source": [
    "obj.__dict__"
   ]
  },
  {
   "cell_type": "code",
   "execution_count": 137,
   "id": "afcaa908",
   "metadata": {},
   "outputs": [],
   "source": [
    "obj.applyInterest()"
   ]
  },
  {
   "cell_type": "code",
   "execution_count": 138,
   "id": "85e7758a",
   "metadata": {},
   "outputs": [
    {
     "name": "stdout",
     "output_type": "stream",
     "text": [
      " Name : abc\n",
      " Balance : 126072.0 \n",
      " Interest Rate : 2 \n"
     ]
    }
   ],
   "source": [
    "obj.accountDetails()"
   ]
  },
  {
   "cell_type": "code",
   "execution_count": null,
   "id": "433d0b81",
   "metadata": {},
   "outputs": [],
   "source": []
  },
  {
   "cell_type": "code",
   "execution_count": null,
   "id": "a006a09e",
   "metadata": {},
   "outputs": [],
   "source": []
  },
  {
   "cell_type": "code",
   "execution_count": null,
   "id": "b594f611",
   "metadata": {},
   "outputs": [],
   "source": []
  }
 ],
 "metadata": {
  "kernelspec": {
   "display_name": "Python 3 (ipykernel)",
   "language": "python",
   "name": "python3"
  },
  "language_info": {
   "codemirror_mode": {
    "name": "ipython",
    "version": 3
   },
   "file_extension": ".py",
   "mimetype": "text/x-python",
   "name": "python",
   "nbconvert_exporter": "python",
   "pygments_lexer": "ipython3",
   "version": "3.11.5"
  }
 },
 "nbformat": 4,
 "nbformat_minor": 5
}
