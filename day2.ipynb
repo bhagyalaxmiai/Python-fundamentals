{
 "cells": [
  {
   "cell_type": "code",
   "execution_count": 2,
   "id": "a89e87e7",
   "metadata": {},
   "outputs": [
    {
     "name": "stdout",
     "output_type": "stream",
     "text": [
      "The Zen of Python, by Tim Peters\n",
      "\n",
      "Beautiful is better than ugly.\n",
      "Explicit is better than implicit.\n",
      "Simple is better than complex.\n",
      "Complex is better than complicated.\n",
      "Flat is better than nested.\n",
      "Sparse is better than dense.\n",
      "Readability counts.\n",
      "Special cases aren't special enough to break the rules.\n",
      "Although practicality beats purity.\n",
      "Errors should never pass silently.\n",
      "Unless explicitly silenced.\n",
      "In the face of ambiguity, refuse the temptation to guess.\n",
      "There should be one-- and preferably only one --obvious way to do it.\n",
      "Although that way may not be obvious at first unless you're Dutch.\n",
      "Now is better than never.\n",
      "Although never is often better than *right* now.\n",
      "If the implementation is hard to explain, it's a bad idea.\n",
      "If the implementation is easy to explain, it may be a good idea.\n",
      "Namespaces are one honking great idea -- let's do more of those!\n"
     ]
    }
   ],
   "source": [
    "import this\n"
   ]
  },
  {
   "cell_type": "code",
   "execution_count": 3,
   "id": "fc98966f",
   "metadata": {},
   "outputs": [
    {
     "name": "stdout",
     "output_type": "stream",
     "text": [
      "Hello world\n"
     ]
    }
   ],
   "source": [
    "print ('Hello world')"
   ]
  },
  {
   "cell_type": "markdown",
   "id": "8dca7980",
   "metadata": {},
   "source": [
    "## Data types in python"
   ]
  },
  {
   "cell_type": "code",
   "execution_count": 4,
   "id": "8a143055",
   "metadata": {},
   "outputs": [
    {
     "ename": "NameError",
     "evalue": "name 'string' is not defined",
     "output_type": "error",
     "traceback": [
      "\u001b[1;31m---------------------------------------------------------------------------\u001b[0m",
      "\u001b[1;31mNameError\u001b[0m                                 Traceback (most recent call last)",
      "Cell \u001b[1;32mIn[4], line 3\u001b[0m\n\u001b[0;32m      1\u001b[0m \u001b[38;5;28mint\u001b[39m\n\u001b[0;32m      2\u001b[0m \u001b[38;5;28mfloat\u001b[39m\n\u001b[1;32m----> 3\u001b[0m string\n\u001b[0;32m      4\u001b[0m \u001b[38;5;28mcomplex\u001b[39m\n\u001b[0;32m      5\u001b[0m boolean\n",
      "\u001b[1;31mNameError\u001b[0m: name 'string' is not defined"
     ]
    }
   ],
   "source": [
    "int\n",
    "float\n",
    "string\n",
    "complex\n",
    "boolean"
   ]
  },
  {
   "cell_type": "code",
   "execution_count": null,
   "id": "eb7661df",
   "metadata": {},
   "outputs": [],
   "source": [
    "a=10\n",
    "type(a)"
   ]
  },
  {
   "cell_type": "code",
   "execution_count": 5,
   "id": "71a71802",
   "metadata": {},
   "outputs": [
    {
     "data": {
      "text/plain": [
       "float"
      ]
     },
     "execution_count": 5,
     "metadata": {},
     "output_type": "execute_result"
    }
   ],
   "source": [
    "b=2.4\n",
    "type(b)"
   ]
  },
  {
   "cell_type": "code",
   "execution_count": 6,
   "id": "ca8f53ec",
   "metadata": {},
   "outputs": [
    {
     "data": {
      "text/plain": [
       "str"
      ]
     },
     "execution_count": 6,
     "metadata": {},
     "output_type": "execute_result"
    }
   ],
   "source": [
    "c=\"abc\"\n",
    "type(c)"
   ]
  },
  {
   "cell_type": "code",
   "execution_count": 7,
   "id": "18b921af",
   "metadata": {},
   "outputs": [
    {
     "data": {
      "text/plain": [
       "complex"
      ]
     },
     "execution_count": 7,
     "metadata": {},
     "output_type": "execute_result"
    }
   ],
   "source": [
    "d = 5+9j\n",
    "type(d)"
   ]
  },
  {
   "cell_type": "code",
   "execution_count": 8,
   "id": "af2efcce",
   "metadata": {},
   "outputs": [
    {
     "data": {
      "text/plain": [
       "bool"
      ]
     },
     "execution_count": 8,
     "metadata": {},
     "output_type": "execute_result"
    }
   ],
   "source": [
    "e=True\n",
    "type(e)"
   ]
  },
  {
   "cell_type": "code",
   "execution_count": 9,
   "id": "dc749dd3",
   "metadata": {},
   "outputs": [
    {
     "data": {
      "text/plain": [
       "(1+3j)"
      ]
     },
     "execution_count": 9,
     "metadata": {},
     "output_type": "execute_result"
    }
   ],
   "source": [
    "a=120\n",
    "b=2.2\n",
    "c= \"India\"\n",
    "d=1+3j\n",
    "a\n",
    "b\n",
    "c\n",
    "d"
   ]
  },
  {
   "cell_type": "code",
   "execution_count": 10,
   "id": "79581071",
   "metadata": {},
   "outputs": [],
   "source": [
    "a,b,c,d,e =120,2.2,\"India\",1+3j,False"
   ]
  },
  {
   "cell_type": "code",
   "execution_count": 11,
   "id": "a8b47bbc",
   "metadata": {},
   "outputs": [
    {
     "data": {
      "text/plain": [
       "120"
      ]
     },
     "execution_count": 11,
     "metadata": {},
     "output_type": "execute_result"
    }
   ],
   "source": [
    "a"
   ]
  },
  {
   "cell_type": "code",
   "execution_count": 12,
   "id": "8fe05116",
   "metadata": {},
   "outputs": [
    {
     "data": {
      "text/plain": [
       "2.2"
      ]
     },
     "execution_count": 12,
     "metadata": {},
     "output_type": "execute_result"
    }
   ],
   "source": [
    "b"
   ]
  },
  {
   "cell_type": "code",
   "execution_count": 13,
   "id": "fb06410c",
   "metadata": {},
   "outputs": [
    {
     "data": {
      "text/plain": [
       "'India'"
      ]
     },
     "execution_count": 13,
     "metadata": {},
     "output_type": "execute_result"
    }
   ],
   "source": [
    "c"
   ]
  },
  {
   "cell_type": "code",
   "execution_count": 14,
   "id": "b6028b4f",
   "metadata": {},
   "outputs": [
    {
     "data": {
      "text/plain": [
       "(1+3j)"
      ]
     },
     "execution_count": 14,
     "metadata": {},
     "output_type": "execute_result"
    }
   ],
   "source": [
    "d"
   ]
  },
  {
   "cell_type": "code",
   "execution_count": 15,
   "id": "e6223979",
   "metadata": {},
   "outputs": [
    {
     "data": {
      "text/plain": [
       "False"
      ]
     },
     "execution_count": 15,
     "metadata": {},
     "output_type": "execute_result"
    }
   ],
   "source": [
    "e"
   ]
  },
  {
   "cell_type": "markdown",
   "id": "f8042e3e",
   "metadata": {},
   "source": [
    "## String Operation"
   ]
  },
  {
   "cell_type": "code",
   "execution_count": 16,
   "id": "891f361d",
   "metadata": {},
   "outputs": [
    {
     "data": {
      "text/plain": [
       "'India'"
      ]
     },
     "execution_count": 16,
     "metadata": {},
     "output_type": "execute_result"
    }
   ],
   "source": [
    "s = 'India'\n",
    "s"
   ]
  },
  {
   "cell_type": "code",
   "execution_count": 17,
   "id": "fd93185f",
   "metadata": {},
   "outputs": [
    {
     "data": {
      "text/plain": [
       "str"
      ]
     },
     "execution_count": 17,
     "metadata": {},
     "output_type": "execute_result"
    }
   ],
   "source": [
    "type(s)"
   ]
  },
  {
   "cell_type": "code",
   "execution_count": 18,
   "id": "a486473c",
   "metadata": {},
   "outputs": [
    {
     "data": {
      "text/plain": [
       "5"
      ]
     },
     "execution_count": 18,
     "metadata": {},
     "output_type": "execute_result"
    }
   ],
   "source": [
    "len(s)"
   ]
  },
  {
   "cell_type": "markdown",
   "id": "9953a714",
   "metadata": {},
   "source": [
    "## Superscript specifier"
   ]
  },
  {
   "cell_type": "code",
   "execution_count": 19,
   "id": "a5fc7815",
   "metadata": {},
   "outputs": [
    {
     "data": {
      "text/plain": [
       "('I', 'n', 'd', 'i', 'a', 'a')"
      ]
     },
     "execution_count": 19,
     "metadata": {},
     "output_type": "execute_result"
    }
   ],
   "source": [
    "s[0], s[1], s[2], s[3], s[4], s[len(s)-1]"
   ]
  },
  {
   "cell_type": "code",
   "execution_count": 20,
   "id": "92ddcf63",
   "metadata": {},
   "outputs": [
    {
     "data": {
      "text/plain": [
       "'Have a nice day'"
      ]
     },
     "execution_count": 20,
     "metadata": {},
     "output_type": "execute_result"
    }
   ],
   "source": [
    "a = 'Have a nice day'\n",
    "a"
   ]
  },
  {
   "cell_type": "code",
   "execution_count": 21,
   "id": "37dcbbf4",
   "metadata": {},
   "outputs": [
    {
     "data": {
      "text/plain": [
       "'Hav'"
      ]
     },
     "execution_count": 21,
     "metadata": {},
     "output_type": "execute_result"
    }
   ],
   "source": [
    "a[0:3]"
   ]
  },
  {
   "cell_type": "code",
   "execution_count": 22,
   "id": "08185911",
   "metadata": {},
   "outputs": [
    {
     "data": {
      "text/plain": [
       "'nic'"
      ]
     },
     "execution_count": 22,
     "metadata": {},
     "output_type": "execute_result"
    }
   ],
   "source": [
    "a[7:10]"
   ]
  },
  {
   "cell_type": "code",
   "execution_count": 23,
   "id": "42ef5636",
   "metadata": {},
   "outputs": [
    {
     "data": {
      "text/plain": [
       "'Have a nic'"
      ]
     },
     "execution_count": 23,
     "metadata": {},
     "output_type": "execute_result"
    }
   ],
   "source": [
    "a[:10]"
   ]
  },
  {
   "cell_type": "code",
   "execution_count": 24,
   "id": "1bc68dc0",
   "metadata": {},
   "outputs": [
    {
     "data": {
      "text/plain": [
       "'e day'"
      ]
     },
     "execution_count": 24,
     "metadata": {},
     "output_type": "execute_result"
    }
   ],
   "source": [
    "a[10:]"
   ]
  },
  {
   "cell_type": "code",
   "execution_count": 25,
   "id": "9cc80b55",
   "metadata": {},
   "outputs": [
    {
     "data": {
      "text/plain": [
       "'y'"
      ]
     },
     "execution_count": 25,
     "metadata": {},
     "output_type": "execute_result"
    }
   ],
   "source": [
    "a[-1]"
   ]
  },
  {
   "cell_type": "code",
   "execution_count": 26,
   "id": "5b2b7c7b",
   "metadata": {},
   "outputs": [
    {
     "data": {
      "text/plain": [
       "'Have a nice da'"
      ]
     },
     "execution_count": 26,
     "metadata": {},
     "output_type": "execute_result"
    }
   ],
   "source": [
    "a[:-1]"
   ]
  },
  {
   "cell_type": "code",
   "execution_count": 27,
   "id": "a19dd853",
   "metadata": {},
   "outputs": [
    {
     "data": {
      "text/plain": [
       "15"
      ]
     },
     "execution_count": 27,
     "metadata": {},
     "output_type": "execute_result"
    }
   ],
   "source": [
    "len(a)"
   ]
  },
  {
   "cell_type": "markdown",
   "id": "d7d8b016",
   "metadata": {},
   "source": [
    "## Alternate character access"
   ]
  },
  {
   "cell_type": "code",
   "execution_count": 28,
   "id": "c771a131",
   "metadata": {},
   "outputs": [
    {
     "data": {
      "text/plain": [
       "'He cd'"
      ]
     },
     "execution_count": 28,
     "metadata": {},
     "output_type": "execute_result"
    }
   ],
   "source": [
    "a[0:14:3] #start, end, step"
   ]
  },
  {
   "cell_type": "code",
   "execution_count": 29,
   "id": "29e90339",
   "metadata": {},
   "outputs": [
    {
     "data": {
      "text/plain": [
       "'Hv  ied'"
      ]
     },
     "execution_count": 29,
     "metadata": {},
     "output_type": "execute_result"
    }
   ],
   "source": [
    "a[:14:2] #start, end, step"
   ]
  },
  {
   "cell_type": "code",
   "execution_count": 30,
   "id": "ffe57518",
   "metadata": {},
   "outputs": [
    {
     "data": {
      "text/plain": [
       "'yad ecin a evaH'"
      ]
     },
     "execution_count": 30,
     "metadata": {},
     "output_type": "execute_result"
    }
   ],
   "source": [
    "a[::-1]  #reverse string"
   ]
  },
  {
   "cell_type": "markdown",
   "id": "aeb4733c",
   "metadata": {},
   "source": [
    "### Find char in index"
   ]
  },
  {
   "cell_type": "code",
   "execution_count": 31,
   "id": "94be69e8",
   "metadata": {},
   "outputs": [
    {
     "data": {
      "text/plain": [
       "'Have a nice day'"
      ]
     },
     "execution_count": 31,
     "metadata": {},
     "output_type": "execute_result"
    }
   ],
   "source": [
    "a\n"
   ]
  },
  {
   "cell_type": "code",
   "execution_count": 32,
   "id": "490a8a98",
   "metadata": {},
   "outputs": [
    {
     "data": {
      "text/plain": [
       "3"
      ]
     },
     "execution_count": 32,
     "metadata": {},
     "output_type": "execute_result"
    }
   ],
   "source": [
    "a.find('e')"
   ]
  },
  {
   "cell_type": "code",
   "execution_count": 33,
   "id": "5e5afd9b",
   "metadata": {},
   "outputs": [
    {
     "data": {
      "text/plain": [
       "7"
      ]
     },
     "execution_count": 33,
     "metadata": {},
     "output_type": "execute_result"
    }
   ],
   "source": [
    "a.find('ni')"
   ]
  },
  {
   "cell_type": "code",
   "execution_count": 34,
   "id": "1763cb8d",
   "metadata": {},
   "outputs": [
    {
     "data": {
      "text/plain": [
       "'HAVE A NICE DAY'"
      ]
     },
     "execution_count": 34,
     "metadata": {},
     "output_type": "execute_result"
    }
   ],
   "source": [
    "a.upper()"
   ]
  },
  {
   "cell_type": "code",
   "execution_count": 35,
   "id": "9af1c780",
   "metadata": {},
   "outputs": [
    {
     "data": {
      "text/plain": [
       "'have a nice day'"
      ]
     },
     "execution_count": 35,
     "metadata": {},
     "output_type": "execute_result"
    }
   ],
   "source": [
    "a.lower()"
   ]
  },
  {
   "cell_type": "code",
   "execution_count": 36,
   "id": "75cd1614",
   "metadata": {},
   "outputs": [
    {
     "data": {
      "text/plain": [
       "'Have a nice day'"
      ]
     },
     "execution_count": 36,
     "metadata": {},
     "output_type": "execute_result"
    }
   ],
   "source": [
    "a.capitalize()"
   ]
  },
  {
   "cell_type": "code",
   "execution_count": 37,
   "id": "ec70bf89",
   "metadata": {},
   "outputs": [
    {
     "data": {
      "text/plain": [
       "'have a nice day'"
      ]
     },
     "execution_count": 37,
     "metadata": {},
     "output_type": "execute_result"
    }
   ],
   "source": [
    "a.casefold()"
   ]
  },
  {
   "cell_type": "code",
   "execution_count": 38,
   "id": "c4515c05",
   "metadata": {},
   "outputs": [
    {
     "data": {
      "text/plain": [
       "True"
      ]
     },
     "execution_count": 38,
     "metadata": {},
     "output_type": "execute_result"
    }
   ],
   "source": [
    "a.endswith('y')"
   ]
  },
  {
   "cell_type": "code",
   "execution_count": 39,
   "id": "44500179",
   "metadata": {},
   "outputs": [
    {
     "data": {
      "text/plain": [
       "False"
      ]
     },
     "execution_count": 39,
     "metadata": {},
     "output_type": "execute_result"
    }
   ],
   "source": [
    "a.isnumeric()"
   ]
  },
  {
   "cell_type": "code",
   "execution_count": 40,
   "id": "c90388a9",
   "metadata": {},
   "outputs": [],
   "source": [
    "t = \"   anc   sdf  dfsdf  \""
   ]
  },
  {
   "cell_type": "code",
   "execution_count": 41,
   "id": "ec66c5be",
   "metadata": {},
   "outputs": [
    {
     "data": {
      "text/plain": [
       "'anc   sdf  dfsdf'"
      ]
     },
     "execution_count": 41,
     "metadata": {},
     "output_type": "execute_result"
    }
   ],
   "source": [
    "t.strip()"
   ]
  },
  {
   "cell_type": "code",
   "execution_count": 42,
   "id": "15f74816",
   "metadata": {},
   "outputs": [
    {
     "data": {
      "text/plain": [
       "'Have a nice day'"
      ]
     },
     "execution_count": 42,
     "metadata": {},
     "output_type": "execute_result"
    }
   ],
   "source": [
    "a"
   ]
  },
  {
   "cell_type": "code",
   "execution_count": 43,
   "id": "176a5de9",
   "metadata": {},
   "outputs": [],
   "source": [
    "b ='India is a great nation'\n"
   ]
  },
  {
   "cell_type": "code",
   "execution_count": 44,
   "id": "e8d0b279",
   "metadata": {},
   "outputs": [
    {
     "data": {
      "text/plain": [
       "'India is a great nation'"
      ]
     },
     "execution_count": 44,
     "metadata": {},
     "output_type": "execute_result"
    }
   ],
   "source": [
    " b\n"
   ]
  },
  {
   "cell_type": "code",
   "execution_count": 45,
   "id": "24462b4b",
   "metadata": {},
   "outputs": [],
   "source": [
    "c=b.split()"
   ]
  },
  {
   "cell_type": "code",
   "execution_count": 46,
   "id": "5e0bbe1e",
   "metadata": {},
   "outputs": [
    {
     "data": {
      "text/plain": [
       "['India', 'is', 'a', 'great', 'nation']"
      ]
     },
     "execution_count": 46,
     "metadata": {},
     "output_type": "execute_result"
    }
   ],
   "source": [
    "c"
   ]
  },
  {
   "cell_type": "code",
   "execution_count": 47,
   "id": "713ee917",
   "metadata": {},
   "outputs": [
    {
     "data": {
      "text/plain": [
       "'India is a great nation'"
      ]
     },
     "execution_count": 47,
     "metadata": {},
     "output_type": "execute_result"
    }
   ],
   "source": [
    "b"
   ]
  },
  {
   "cell_type": "code",
   "execution_count": 48,
   "id": "a7adbcb1",
   "metadata": {},
   "outputs": [],
   "source": [
    "p = 'India is my nation'"
   ]
  },
  {
   "cell_type": "code",
   "execution_count": 49,
   "id": "1e3f6bca",
   "metadata": {},
   "outputs": [
    {
     "data": {
      "text/plain": [
       "'India Is My Nation'"
      ]
     },
     "execution_count": 49,
     "metadata": {},
     "output_type": "execute_result"
    }
   ],
   "source": [
    "p.title()"
   ]
  },
  {
   "cell_type": "markdown",
   "id": "8eb655e3",
   "metadata": {},
   "source": [
    "\n",
    "## List"
   ]
  },
  {
   "cell_type": "code",
   "execution_count": 50,
   "id": "43e8a56d",
   "metadata": {},
   "outputs": [],
   "source": [
    "t= list()"
   ]
  },
  {
   "cell_type": "code",
   "execution_count": 51,
   "id": "6905b849",
   "metadata": {},
   "outputs": [
    {
     "data": {
      "text/plain": [
       "list"
      ]
     },
     "execution_count": 51,
     "metadata": {},
     "output_type": "execute_result"
    }
   ],
   "source": [
    "type(t)"
   ]
  },
  {
   "cell_type": "code",
   "execution_count": 52,
   "id": "fcdcb955",
   "metadata": {},
   "outputs": [
    {
     "data": {
      "text/plain": [
       "[]"
      ]
     },
     "execution_count": 52,
     "metadata": {},
     "output_type": "execute_result"
    }
   ],
   "source": [
    "t\n"
   ]
  },
  {
   "cell_type": "code",
   "execution_count": 53,
   "id": "6ece82c4",
   "metadata": {},
   "outputs": [
    {
     "data": {
      "text/plain": [
       "0"
      ]
     },
     "execution_count": 53,
     "metadata": {},
     "output_type": "execute_result"
    }
   ],
   "source": [
    "len(t)"
   ]
  },
  {
   "cell_type": "code",
   "execution_count": 54,
   "id": "e6c84578",
   "metadata": {},
   "outputs": [],
   "source": [
    "t = ['India', 5,6,7,1+5j, True]"
   ]
  },
  {
   "cell_type": "code",
   "execution_count": 55,
   "id": "56bffb51",
   "metadata": {},
   "outputs": [
    {
     "data": {
      "text/plain": [
       "['India', 5, 6, 7, (1+5j), True]"
      ]
     },
     "execution_count": 55,
     "metadata": {},
     "output_type": "execute_result"
    }
   ],
   "source": [
    "t"
   ]
  },
  {
   "cell_type": "code",
   "execution_count": 56,
   "id": "a3fd7dc2",
   "metadata": {},
   "outputs": [
    {
     "data": {
      "text/plain": [
       "('India', 5, 6)"
      ]
     },
     "execution_count": 56,
     "metadata": {},
     "output_type": "execute_result"
    }
   ],
   "source": [
    "t[0] ,t[1], t[2]"
   ]
  },
  {
   "cell_type": "code",
   "execution_count": 57,
   "id": "7cdc1af1",
   "metadata": {},
   "outputs": [
    {
     "data": {
      "text/plain": [
       "True"
      ]
     },
     "execution_count": 57,
     "metadata": {},
     "output_type": "execute_result"
    }
   ],
   "source": [
    "t[-1]"
   ]
  },
  {
   "cell_type": "code",
   "execution_count": 58,
   "id": "64c4ad70",
   "metadata": {},
   "outputs": [
    {
     "data": {
      "text/plain": [
       "(1+5j)"
      ]
     },
     "execution_count": 58,
     "metadata": {},
     "output_type": "execute_result"
    }
   ],
   "source": [
    "t[-2]"
   ]
  },
  {
   "cell_type": "code",
   "execution_count": 59,
   "id": "cd5d12fe",
   "metadata": {},
   "outputs": [
    {
     "data": {
      "text/plain": [
       "[5, 6, 7, (1+5j)]"
      ]
     },
     "execution_count": 59,
     "metadata": {},
     "output_type": "execute_result"
    }
   ],
   "source": [
    "t[1:5]"
   ]
  },
  {
   "cell_type": "code",
   "execution_count": 60,
   "id": "a56ef6b3",
   "metadata": {},
   "outputs": [],
   "source": [
    "l1=['India',123, True]\n",
    "l2=['Maharashtra', 234, True]"
   ]
  },
  {
   "cell_type": "code",
   "execution_count": 61,
   "id": "85ad0b82",
   "metadata": {},
   "outputs": [
    {
     "data": {
      "text/plain": [
       "['India', 123, True]"
      ]
     },
     "execution_count": 61,
     "metadata": {},
     "output_type": "execute_result"
    }
   ],
   "source": [
    "l1"
   ]
  },
  {
   "cell_type": "code",
   "execution_count": 62,
   "id": "69b48a1f",
   "metadata": {},
   "outputs": [
    {
     "data": {
      "text/plain": [
       "['Maharashtra', 234, True]"
      ]
     },
     "execution_count": 62,
     "metadata": {},
     "output_type": "execute_result"
    }
   ],
   "source": [
    "l2"
   ]
  },
  {
   "cell_type": "code",
   "execution_count": 63,
   "id": "c3991b11",
   "metadata": {},
   "outputs": [
    {
     "data": {
      "text/plain": [
       "['India', 123, True, 'Maharashtra', 234, True]"
      ]
     },
     "execution_count": 63,
     "metadata": {},
     "output_type": "execute_result"
    }
   ],
   "source": [
    "l3= l1+l2\n",
    "l3"
   ]
  },
  {
   "cell_type": "code",
   "execution_count": 64,
   "id": "dd096f7e",
   "metadata": {},
   "outputs": [
    {
     "data": {
      "text/plain": [
       "['India', 123, True, 'Maharashtra', 234, True, 'Pune']"
      ]
     },
     "execution_count": 64,
     "metadata": {},
     "output_type": "execute_result"
    }
   ],
   "source": [
    "l3 = l3 + ['Pune']\n",
    "l3"
   ]
  },
  {
   "cell_type": "code",
   "execution_count": 65,
   "id": "8b62c10e",
   "metadata": {},
   "outputs": [
    {
     "data": {
      "text/plain": [
       "'Pune'"
      ]
     },
     "execution_count": 65,
     "metadata": {},
     "output_type": "execute_result"
    }
   ],
   "source": [
    "l3. pop()"
   ]
  },
  {
   "cell_type": "code",
   "execution_count": 66,
   "id": "45e5b3e7",
   "metadata": {},
   "outputs": [
    {
     "data": {
      "text/plain": [
       "['India', 123, True, 'Maharashtra', 234, True]"
      ]
     },
     "execution_count": 66,
     "metadata": {},
     "output_type": "execute_result"
    }
   ],
   "source": [
    "l3\n"
   ]
  },
  {
   "cell_type": "code",
   "execution_count": 67,
   "id": "2ab94458",
   "metadata": {},
   "outputs": [
    {
     "data": {
      "text/plain": [
       "234"
      ]
     },
     "execution_count": 67,
     "metadata": {},
     "output_type": "execute_result"
    }
   ],
   "source": [
    "l3.pop(4)"
   ]
  },
  {
   "cell_type": "code",
   "execution_count": 68,
   "id": "d906dedf",
   "metadata": {},
   "outputs": [
    {
     "data": {
      "text/plain": [
       "['India', 123, True, 'Maharashtra', True]"
      ]
     },
     "execution_count": 68,
     "metadata": {},
     "output_type": "execute_result"
    }
   ],
   "source": [
    "l3"
   ]
  },
  {
   "cell_type": "markdown",
   "id": "6df7af06",
   "metadata": {},
   "source": [
    "## insertion"
   ]
  },
  {
   "cell_type": "code",
   "execution_count": 69,
   "id": "53e851a3",
   "metadata": {},
   "outputs": [],
   "source": [
    "l3.insert(0,'PQR')"
   ]
  },
  {
   "cell_type": "code",
   "execution_count": 70,
   "id": "691273de",
   "metadata": {},
   "outputs": [
    {
     "data": {
      "text/plain": [
       "['PQR', 'India', 123, True, 'Maharashtra', True]"
      ]
     },
     "execution_count": 70,
     "metadata": {},
     "output_type": "execute_result"
    }
   ],
   "source": [
    "l3"
   ]
  },
  {
   "cell_type": "code",
   "execution_count": 71,
   "id": "83352be3",
   "metadata": {},
   "outputs": [],
   "source": [
    "l3.insert(-1,[11,22,33])"
   ]
  },
  {
   "cell_type": "code",
   "execution_count": 72,
   "id": "1f65a40a",
   "metadata": {},
   "outputs": [
    {
     "data": {
      "text/plain": [
       "['PQR', 'India', 123, True, 'Maharashtra', [11, 22, 33], True]"
      ]
     },
     "execution_count": 72,
     "metadata": {},
     "output_type": "execute_result"
    }
   ],
   "source": [
    "l3"
   ]
  },
  {
   "cell_type": "code",
   "execution_count": 73,
   "id": "b0464c82",
   "metadata": {},
   "outputs": [
    {
     "data": {
      "text/plain": [
       "22"
      ]
     },
     "execution_count": 73,
     "metadata": {},
     "output_type": "execute_result"
    }
   ],
   "source": [
    "l3[-2][-2]"
   ]
  },
  {
   "cell_type": "code",
   "execution_count": 74,
   "id": "8977bb89",
   "metadata": {},
   "outputs": [
    {
     "data": {
      "text/plain": [
       "11"
      ]
     },
     "execution_count": 74,
     "metadata": {},
     "output_type": "execute_result"
    }
   ],
   "source": [
    "l3[5][0]"
   ]
  },
  {
   "cell_type": "code",
   "execution_count": 75,
   "id": "32c1ae69",
   "metadata": {},
   "outputs": [
    {
     "data": {
      "text/plain": [
       "[True, [11, 22, 33], 'Maharashtra', True, 123, 'India', 'PQR']"
      ]
     },
     "execution_count": 75,
     "metadata": {},
     "output_type": "execute_result"
    }
   ],
   "source": [
    "l3[::-1]"
   ]
  },
  {
   "cell_type": "code",
   "execution_count": 76,
   "id": "900b4d41",
   "metadata": {},
   "outputs": [],
   "source": [
    "l3.append('appended')"
   ]
  },
  {
   "cell_type": "code",
   "execution_count": 77,
   "id": "962375db",
   "metadata": {},
   "outputs": [
    {
     "data": {
      "text/plain": [
       "['PQR', 'India', 123, True, 'Maharashtra', [11, 22, 33], True, 'appended']"
      ]
     },
     "execution_count": 77,
     "metadata": {},
     "output_type": "execute_result"
    }
   ],
   "source": [
    "l3"
   ]
  },
  {
   "cell_type": "code",
   "execution_count": 78,
   "id": "853ed243",
   "metadata": {},
   "outputs": [],
   "source": [
    "l3.reverse()"
   ]
  },
  {
   "cell_type": "code",
   "execution_count": 79,
   "id": "e0b6f206",
   "metadata": {},
   "outputs": [
    {
     "data": {
      "text/plain": [
       "['appended', True, [11, 22, 33], 'Maharashtra', True, 123, 'India', 'PQR']"
      ]
     },
     "execution_count": 79,
     "metadata": {},
     "output_type": "execute_result"
    }
   ],
   "source": [
    "l3"
   ]
  },
  {
   "cell_type": "code",
   "execution_count": 80,
   "id": "e1d7dc43",
   "metadata": {},
   "outputs": [],
   "source": [
    "l4 = [11,5,33,6,55,7]"
   ]
  },
  {
   "cell_type": "code",
   "execution_count": 81,
   "id": "3a75ed6f",
   "metadata": {},
   "outputs": [],
   "source": [
    "l4.sort()"
   ]
  },
  {
   "cell_type": "code",
   "execution_count": 82,
   "id": "acb27754",
   "metadata": {},
   "outputs": [
    {
     "data": {
      "text/plain": [
       "[5, 6, 7, 11, 33, 55]"
      ]
     },
     "execution_count": 82,
     "metadata": {},
     "output_type": "execute_result"
    }
   ],
   "source": [
    "l4"
   ]
  },
  {
   "cell_type": "code",
   "execution_count": 83,
   "id": "eee1e90c",
   "metadata": {},
   "outputs": [],
   "source": [
    "l4.sort(reverse=True)"
   ]
  },
  {
   "cell_type": "code",
   "execution_count": 84,
   "id": "15f1d788",
   "metadata": {},
   "outputs": [
    {
     "data": {
      "text/plain": [
       "[55, 33, 11, 7, 6, 5]"
      ]
     },
     "execution_count": 84,
     "metadata": {},
     "output_type": "execute_result"
    }
   ],
   "source": [
    "l4"
   ]
  },
  {
   "cell_type": "code",
   "execution_count": 85,
   "id": "441e4ef2",
   "metadata": {},
   "outputs": [],
   "source": [
    "l4.clear()"
   ]
  },
  {
   "cell_type": "code",
   "execution_count": 86,
   "id": "319863f1",
   "metadata": {},
   "outputs": [
    {
     "data": {
      "text/plain": [
       "[]"
      ]
     },
     "execution_count": 86,
     "metadata": {},
     "output_type": "execute_result"
    }
   ],
   "source": [
    "l4"
   ]
  },
  {
   "cell_type": "markdown",
   "id": "baf14e33",
   "metadata": {},
   "source": [
    "## Conditioning"
   ]
  },
  {
   "cell_type": "code",
   "execution_count": 87,
   "id": "c6fad245",
   "metadata": {},
   "outputs": [],
   "source": [
    "yash = 55"
   ]
  },
  {
   "cell_type": "code",
   "execution_count": 88,
   "id": "87f6013d",
   "metadata": {},
   "outputs": [
    {
     "name": "stdout",
     "output_type": "stream",
     "text": [
      "Yash : Pass\n"
     ]
    }
   ],
   "source": [
    "if yash >35:\n",
    "    print('Yash : Pass')\n",
    "else:\n",
    "    print('Yash : Fail')"
   ]
  },
  {
   "cell_type": "code",
   "execution_count": 102,
   "id": "1d006672",
   "metadata": {},
   "outputs": [
    {
     "name": "stdout",
     "output_type": "stream",
     "text": [
      "Higher Second class\n"
     ]
    }
   ],
   "source": [
    "marks = 55\n",
    "if marks >= 90:\n",
    "    print('Distinction')\n",
    "elif marks >= 70 and marks < 90:\n",
    "    print('First class')\n",
    "elif marks >= 60 and marks < 70:\n",
    "    print('Second class')\n",
    "elif marks >= 50 and marks < 60:\n",
    "    print('Higher Second class')\n",
    "elif marks >= 40 and marks <50:\n",
    "    print('Pass class')\n",
    "elif marks < 40:\n",
    "    print('Fail')"
   ]
  },
  {
   "cell_type": "code",
   "execution_count": 103,
   "id": "0f833e31",
   "metadata": {},
   "outputs": [
    {
     "name": "stdout",
     "output_type": "stream",
     "text": [
      "6 is even\n",
      "6  is even\n"
     ]
    }
   ],
   "source": [
    "a=6\n",
    "if a % 2 == 0:\n",
    "    print(str(a) + ' is even')\n",
    "    print(f\"{a}  is even\")\n",
    "else: \n",
    "    print(str(a) + ' is odd')\n",
    "    print(f\"{a} is odd\")"
   ]
  },
  {
   "cell_type": "code",
   "execution_count": 104,
   "id": "788dbc77",
   "metadata": {},
   "outputs": [
    {
     "name": "stdout",
     "output_type": "stream",
     "text": [
      "Enter number -4\n",
      " -4.0 is negative\n"
     ]
    }
   ],
   "source": [
    "n= float(input(\"Enter number \"))\n",
    "if n > 0 :\n",
    "    print(f\" {n} is positive\")\n",
    "else : \n",
    "    print(f\" {n} is negative\")"
   ]
  },
  {
   "cell_type": "code",
   "execution_count": null,
   "id": "93c062d3",
   "metadata": {},
   "outputs": [],
   "source": []
  },
  {
   "cell_type": "code",
   "execution_count": null,
   "id": "3f7c2a8b",
   "metadata": {},
   "outputs": [],
   "source": []
  },
  {
   "cell_type": "code",
   "execution_count": null,
   "id": "eb873969",
   "metadata": {},
   "outputs": [],
   "source": []
  },
  {
   "cell_type": "code",
   "execution_count": null,
   "id": "afd5c0cc",
   "metadata": {},
   "outputs": [],
   "source": []
  },
  {
   "cell_type": "code",
   "execution_count": null,
   "id": "019608f2",
   "metadata": {},
   "outputs": [],
   "source": []
  },
  {
   "cell_type": "code",
   "execution_count": null,
   "id": "98bf8371",
   "metadata": {},
   "outputs": [],
   "source": []
  }
 ],
 "metadata": {
  "kernelspec": {
   "display_name": "Python 3 (ipykernel)",
   "language": "python",
   "name": "python3"
  },
  "language_info": {
   "codemirror_mode": {
    "name": "ipython",
    "version": 3
   },
   "file_extension": ".py",
   "mimetype": "text/x-python",
   "name": "python",
   "nbconvert_exporter": "python",
   "pygments_lexer": "ipython3",
   "version": "3.11.5"
  }
 },
 "nbformat": 4,
 "nbformat_minor": 5
}
