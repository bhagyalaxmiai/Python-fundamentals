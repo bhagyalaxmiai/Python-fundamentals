{
 "cells": [
  {
   "cell_type": "code",
   "execution_count": 2,
   "id": "99198518",
   "metadata": {},
   "outputs": [],
   "source": [
    "l=[36,25,85,65,45,89,12]"
   ]
  },
  {
   "cell_type": "code",
   "execution_count": 3,
   "id": "e19d5766",
   "metadata": {},
   "outputs": [
    {
     "data": {
      "text/plain": [
       "[36, 25, 85, 65, 45, 89, 12]"
      ]
     },
     "execution_count": 3,
     "metadata": {},
     "output_type": "execute_result"
    }
   ],
   "source": [
    "l"
   ]
  },
  {
   "cell_type": "code",
   "execution_count": 4,
   "id": "38379c92",
   "metadata": {},
   "outputs": [
    {
     "data": {
      "text/plain": [
       "36"
      ]
     },
     "execution_count": 4,
     "metadata": {},
     "output_type": "execute_result"
    }
   ],
   "source": [
    "l[0]"
   ]
  },
  {
   "cell_type": "markdown",
   "id": "60259257",
   "metadata": {},
   "source": [
    "## For Loop"
   ]
  },
  {
   "cell_type": "code",
   "execution_count": 6,
   "id": "d586fcd2",
   "metadata": {},
   "outputs": [],
   "source": [
    "#for <index> in <iterator>:\n",
    "     #print(index)"
   ]
  },
  {
   "cell_type": "code",
   "execution_count": 7,
   "id": "3b01f8c1",
   "metadata": {},
   "outputs": [
    {
     "data": {
      "text/plain": [
       "7"
      ]
     },
     "execution_count": 7,
     "metadata": {},
     "output_type": "execute_result"
    }
   ],
   "source": [
    "len(l)"
   ]
  },
  {
   "cell_type": "code",
   "execution_count": 9,
   "id": "8fbb88bb",
   "metadata": {},
   "outputs": [
    {
     "data": {
      "text/plain": [
       "range(0, 10)"
      ]
     },
     "execution_count": 9,
     "metadata": {},
     "output_type": "execute_result"
    }
   ],
   "source": [
    "range(0,10)"
   ]
  },
  {
   "cell_type": "code",
   "execution_count": 11,
   "id": "d5f8594c",
   "metadata": {},
   "outputs": [
    {
     "name": "stdout",
     "output_type": "stream",
     "text": [
      "0\n",
      "1\n",
      "2\n",
      "3\n",
      "4\n"
     ]
    }
   ],
   "source": [
    "for i in range(0,5):\n",
    "    print(i)"
   ]
  },
  {
   "cell_type": "code",
   "execution_count": 13,
   "id": "ea88af71",
   "metadata": {},
   "outputs": [
    {
     "name": "stdout",
     "output_type": "stream",
     "text": [
      "36\n",
      "25\n",
      "85\n",
      "65\n",
      "45\n",
      "89\n",
      "12\n"
     ]
    }
   ],
   "source": [
    "for i in range(0,len(l)):\n",
    "    print(l[i])"
   ]
  },
  {
   "cell_type": "markdown",
   "id": "bc4bdf66",
   "metadata": {},
   "source": [
    "## sum of numbers in list"
   ]
  },
  {
   "cell_type": "code",
   "execution_count": 14,
   "id": "ff1eb34e",
   "metadata": {},
   "outputs": [
    {
     "data": {
      "text/plain": [
       "[36, 25, 85, 65, 45, 89, 12]"
      ]
     },
     "execution_count": 14,
     "metadata": {},
     "output_type": "execute_result"
    }
   ],
   "source": [
    "l"
   ]
  },
  {
   "cell_type": "code",
   "execution_count": 17,
   "id": "2eba26a0",
   "metadata": {},
   "outputs": [
    {
     "name": "stdout",
     "output_type": "stream",
     "text": [
      "Sum of list numbers : 357\n"
     ]
    }
   ],
   "source": [
    "sum = 0\n",
    "for i in range(0,len(l)):\n",
    "    sum=sum + l[i]\n",
    "print(f\"Sum of list numbers : {sum}\")"
   ]
  },
  {
   "cell_type": "markdown",
   "id": "7a1ccecc",
   "metadata": {},
   "source": [
    "## print the pattern"
   ]
  },
  {
   "cell_type": "code",
   "execution_count": 20,
   "id": "8b4a4c01",
   "metadata": {},
   "outputs": [
    {
     "name": "stdout",
     "output_type": "stream",
     "text": [
      "I\n",
      "n\n",
      "d\n",
      "i\n",
      "a\n"
     ]
    }
   ],
   "source": [
    "word = 'India'\n",
    "for i in word:\n",
    "    print (i)"
   ]
  },
  {
   "cell_type": "markdown",
   "id": "7c238e63",
   "metadata": {},
   "source": [
    "## multiplication table"
   ]
  },
  {
   "cell_type": "code",
   "execution_count": 28,
   "id": "23d436d1",
   "metadata": {},
   "outputs": [
    {
     "name": "stdout",
     "output_type": "stream",
     "text": [
      "5*1 = 5\n",
      "5*2 = 10\n",
      "5*3 = 15\n",
      "5*4 = 20\n",
      "5*5 = 25\n",
      "5*6 = 30\n",
      "5*7 = 35\n",
      "5*8 = 40\n",
      "5*9 = 45\n",
      "5*10 = 50\n"
     ]
    }
   ],
   "source": [
    "n=5\n",
    "for i in range(1,11):\n",
    "    print(f\"{n}*{i} = {n*i}\")\n",
    "    \n"
   ]
  },
  {
   "cell_type": "markdown",
   "id": "1dc9e7ed",
   "metadata": {},
   "source": [
    "## multiplication table from 1 to 10"
   ]
  },
  {
   "cell_type": "code",
   "execution_count": 32,
   "id": "dcc9c4eb",
   "metadata": {},
   "outputs": [
    {
     "name": "stdout",
     "output_type": "stream",
     "text": [
      "Table of 1\n",
      "1*1 = 1\n",
      "1*2 = 2\n",
      "1*3 = 3\n",
      "1*4 = 4\n",
      "1*5 = 5\n",
      "1*6 = 6\n",
      "1*7 = 7\n",
      "1*8 = 8\n",
      "1*9 = 9\n",
      "1*10 = 10\n",
      "Table of 2\n",
      "2*1 = 2\n",
      "2*2 = 4\n",
      "2*3 = 6\n",
      "2*4 = 8\n",
      "2*5 = 10\n",
      "2*6 = 12\n",
      "2*7 = 14\n",
      "2*8 = 16\n",
      "2*9 = 18\n",
      "2*10 = 20\n",
      "Table of 3\n",
      "3*1 = 3\n",
      "3*2 = 6\n",
      "3*3 = 9\n",
      "3*4 = 12\n",
      "3*5 = 15\n",
      "3*6 = 18\n",
      "3*7 = 21\n",
      "3*8 = 24\n",
      "3*9 = 27\n",
      "3*10 = 30\n",
      "Table of 4\n",
      "4*1 = 4\n",
      "4*2 = 8\n",
      "4*3 = 12\n",
      "4*4 = 16\n",
      "4*5 = 20\n",
      "4*6 = 24\n",
      "4*7 = 28\n",
      "4*8 = 32\n",
      "4*9 = 36\n",
      "4*10 = 40\n",
      "Table of 5\n",
      "5*1 = 5\n",
      "5*2 = 10\n",
      "5*3 = 15\n",
      "5*4 = 20\n",
      "5*5 = 25\n",
      "5*6 = 30\n",
      "5*7 = 35\n",
      "5*8 = 40\n",
      "5*9 = 45\n",
      "5*10 = 50\n",
      "Table of 6\n",
      "6*1 = 6\n",
      "6*2 = 12\n",
      "6*3 = 18\n",
      "6*4 = 24\n",
      "6*5 = 30\n",
      "6*6 = 36\n",
      "6*7 = 42\n",
      "6*8 = 48\n",
      "6*9 = 54\n",
      "6*10 = 60\n",
      "Table of 7\n",
      "7*1 = 7\n",
      "7*2 = 14\n",
      "7*3 = 21\n",
      "7*4 = 28\n",
      "7*5 = 35\n",
      "7*6 = 42\n",
      "7*7 = 49\n",
      "7*8 = 56\n",
      "7*9 = 63\n",
      "7*10 = 70\n",
      "Table of 8\n",
      "8*1 = 8\n",
      "8*2 = 16\n",
      "8*3 = 24\n",
      "8*4 = 32\n",
      "8*5 = 40\n",
      "8*6 = 48\n",
      "8*7 = 56\n",
      "8*8 = 64\n",
      "8*9 = 72\n",
      "8*10 = 80\n",
      "Table of 9\n",
      "9*1 = 9\n",
      "9*2 = 18\n",
      "9*3 = 27\n",
      "9*4 = 36\n",
      "9*5 = 45\n",
      "9*6 = 54\n",
      "9*7 = 63\n",
      "9*8 = 72\n",
      "9*9 = 81\n",
      "9*10 = 90\n",
      "Table of 10\n",
      "10*1 = 10\n",
      "10*2 = 20\n",
      "10*3 = 30\n",
      "10*4 = 40\n",
      "10*5 = 50\n",
      "10*6 = 60\n",
      "10*7 = 70\n",
      "10*8 = 80\n",
      "10*9 = 90\n",
      "10*10 = 100\n"
     ]
    }
   ],
   "source": [
    "n=5\n",
    "for i in range(1,11):\n",
    "    print(f\"Table of {i}\")\n",
    "    for j in range(1,11):\n",
    "        print(f\"{i}*{j} = {i*j}\")\n",
    "    "
   ]
  },
  {
   "cell_type": "markdown",
   "id": "f24c0db6",
   "metadata": {},
   "source": [
    "## Factorial "
   ]
  },
  {
   "cell_type": "code",
   "execution_count": 34,
   "id": "15ff99ac",
   "metadata": {},
   "outputs": [
    {
     "name": "stdout",
     "output_type": "stream",
     "text": [
      "Enter number 5\n",
      "Factorial is 120\n"
     ]
    }
   ],
   "source": [
    "n=int(input(\"Enter number \"))\n",
    "f= 1\n",
    "for i in range(1,n+1):\n",
    "    f=f*i\n",
    "print(f\"Factorial is {f}\")"
   ]
  },
  {
   "cell_type": "markdown",
   "id": "ca13219e",
   "metadata": {},
   "source": [
    "## While"
   ]
  },
  {
   "cell_type": "code",
   "execution_count": null,
   "id": "51100dab",
   "metadata": {},
   "outputs": [],
   "source": [
    "#while(condition):\n",
    "#     print()"
   ]
  },
  {
   "cell_type": "markdown",
   "id": "ce7c770f",
   "metadata": {},
   "source": [
    "## Pattern"
   ]
  },
  {
   "cell_type": "code",
   "execution_count": 37,
   "id": "8030488f",
   "metadata": {},
   "outputs": [
    {
     "name": "stdout",
     "output_type": "stream",
     "text": [
      "*\n",
      "**\n",
      "***\n",
      "****\n",
      "*****\n"
     ]
    }
   ],
   "source": [
    "n=5\n",
    "i=1\n",
    "while (i<=n):\n",
    "    print('*'*i)\n",
    "    i=i+1"
   ]
  },
  {
   "cell_type": "code",
   "execution_count": 39,
   "id": "fd3b5a8e",
   "metadata": {},
   "outputs": [
    {
     "name": "stdout",
     "output_type": "stream",
     "text": [
      "Hello\n",
      "Want to continue[y/n]y\n",
      "Hello\n",
      "Want to continue[y/n]y\n",
      "Hello\n",
      "Want to continue[y/n]n\n"
     ]
    }
   ],
   "source": [
    "ans = 'y'\n",
    "while (ans=='y'):\n",
    "    print(\"Hello\")\n",
    "    ans = input(\"Want to continue[y/n]\")\n",
    "    "
   ]
  },
  {
   "cell_type": "code",
   "execution_count": 41,
   "id": "1e72bbc4",
   "metadata": {},
   "outputs": [
    {
     "name": "stdout",
     "output_type": "stream",
     "text": [
      "P\n",
      "y\n",
      "t\n",
      "h\n",
      "o\n",
      "n\n"
     ]
    }
   ],
   "source": [
    "string = 'Python'\n",
    "index = 0\n",
    "while (index<len(string)):\n",
    "    print(string[index])\n",
    "    index +=1"
   ]
  },
  {
   "cell_type": "markdown",
   "id": "763565d6",
   "metadata": {},
   "source": [
    "## Print n to 1"
   ]
  },
  {
   "cell_type": "code",
   "execution_count": 47,
   "id": "dca50d2d",
   "metadata": {},
   "outputs": [
    {
     "name": "stdout",
     "output_type": "stream",
     "text": [
      "5\n",
      "4\n",
      "3\n",
      "2\n",
      "1\n"
     ]
    }
   ],
   "source": [
    "n= 5\n",
    "for i in range (5,0,-1):\n",
    "    print (i)"
   ]
  },
  {
   "cell_type": "code",
   "execution_count": 50,
   "id": "280b8f26",
   "metadata": {},
   "outputs": [
    {
     "name": "stdout",
     "output_type": "stream",
     "text": [
      "5\n",
      "4\n",
      "3\n",
      "2\n",
      "1\n"
     ]
    }
   ],
   "source": [
    "n = 5\n",
    "while n>=1:\n",
    "    print(n)\n",
    "    n-=1"
   ]
  },
  {
   "cell_type": "markdown",
   "id": "995b6a6a",
   "metadata": {},
   "source": [
    "## Function"
   ]
  },
  {
   "cell_type": "code",
   "execution_count": 51,
   "id": "e1a97d60",
   "metadata": {},
   "outputs": [
    {
     "data": {
      "text/plain": [
       "[36, 25, 85, 65, 45, 89, 12]"
      ]
     },
     "execution_count": 51,
     "metadata": {},
     "output_type": "execute_result"
    }
   ],
   "source": [
    "l"
   ]
  },
  {
   "cell_type": "code",
   "execution_count": 52,
   "id": "49e8be9f",
   "metadata": {},
   "outputs": [
    {
     "data": {
      "text/plain": [
       "7"
      ]
     },
     "execution_count": 52,
     "metadata": {},
     "output_type": "execute_result"
    }
   ],
   "source": [
    "len(l)"
   ]
  },
  {
   "cell_type": "code",
   "execution_count": null,
   "id": "68537917",
   "metadata": {},
   "outputs": [],
   "source": [
    "s = 'India vs England'"
   ]
  },
  {
   "cell_type": "code",
   "execution_count": null,
   "id": "1b768a7a",
   "metadata": {},
   "outputs": [],
   "source": [
    "# if dont want to write any function body\n",
    "def my_function():\n",
    "    pass"
   ]
  },
  {
   "cell_type": "code",
   "execution_count": 53,
   "id": "2c90bff8",
   "metadata": {},
   "outputs": [],
   "source": [
    "def greet():\n",
    "    print(\"Hello !\")"
   ]
  },
  {
   "cell_type": "code",
   "execution_count": 55,
   "id": "ddc53f2b",
   "metadata": {},
   "outputs": [
    {
     "name": "stdout",
     "output_type": "stream",
     "text": [
      "Hello !\n"
     ]
    }
   ],
   "source": [
    "greet()"
   ]
  },
  {
   "cell_type": "code",
   "execution_count": 56,
   "id": "8f0fbb5e",
   "metadata": {},
   "outputs": [
    {
     "name": "stdout",
     "output_type": "stream",
     "text": [
      "Hello !\n"
     ]
    }
   ],
   "source": [
    "result = greet()"
   ]
  },
  {
   "cell_type": "code",
   "execution_count": 57,
   "id": "10e4d8d6",
   "metadata": {},
   "outputs": [
    {
     "name": "stdout",
     "output_type": "stream",
     "text": [
      "None\n"
     ]
    }
   ],
   "source": [
    "print (result) # it is giving non as function is not returning anything"
   ]
  },
  {
   "cell_type": "code",
   "execution_count": 58,
   "id": "52fa845f",
   "metadata": {},
   "outputs": [],
   "source": [
    "def greet1():\n",
    "    return 'Hello !'"
   ]
  },
  {
   "cell_type": "code",
   "execution_count": 59,
   "id": "19425c63",
   "metadata": {},
   "outputs": [],
   "source": [
    "result = greet1()"
   ]
  },
  {
   "cell_type": "code",
   "execution_count": 60,
   "id": "35d386e9",
   "metadata": {},
   "outputs": [
    {
     "name": "stdout",
     "output_type": "stream",
     "text": [
      "Hello !\n"
     ]
    }
   ],
   "source": [
    "print(result)"
   ]
  },
  {
   "cell_type": "code",
   "execution_count": 61,
   "id": "0bba8f97",
   "metadata": {},
   "outputs": [
    {
     "data": {
      "text/plain": [
       "str"
      ]
     },
     "execution_count": 61,
     "metadata": {},
     "output_type": "execute_result"
    }
   ],
   "source": [
    "type(result)"
   ]
  },
  {
   "cell_type": "code",
   "execution_count": 62,
   "id": "422c5b9a",
   "metadata": {},
   "outputs": [],
   "source": [
    "def test():\n",
    "    l=[11,22,33]\n",
    "    return l"
   ]
  },
  {
   "cell_type": "code",
   "execution_count": 63,
   "id": "17018bc3",
   "metadata": {},
   "outputs": [],
   "source": [
    "res1 = test()"
   ]
  },
  {
   "cell_type": "code",
   "execution_count": 65,
   "id": "4e87a28d",
   "metadata": {},
   "outputs": [
    {
     "name": "stdout",
     "output_type": "stream",
     "text": [
      "[11, 22, 33]\n"
     ]
    }
   ],
   "source": [
    "print(res1)"
   ]
  },
  {
   "cell_type": "code",
   "execution_count": 66,
   "id": "4b1ec2ab",
   "metadata": {},
   "outputs": [
    {
     "data": {
      "text/plain": [
       "list"
      ]
     },
     "execution_count": 66,
     "metadata": {},
     "output_type": "execute_result"
    }
   ],
   "source": [
    "type(res1)"
   ]
  },
  {
   "cell_type": "code",
   "execution_count": 69,
   "id": "57c8cb69",
   "metadata": {},
   "outputs": [],
   "source": [
    "def test1():\n",
    "    name='Veena'\n",
    "    return name"
   ]
  },
  {
   "cell_type": "code",
   "execution_count": 70,
   "id": "d102cddd",
   "metadata": {},
   "outputs": [
    {
     "data": {
      "text/plain": [
       "'Veena Abnave'"
      ]
     },
     "execution_count": 70,
     "metadata": {},
     "output_type": "execute_result"
    }
   ],
   "source": [
    "test1() + \" Abnave\""
   ]
  },
  {
   "cell_type": "code",
   "execution_count": 73,
   "id": "3549590d",
   "metadata": {},
   "outputs": [],
   "source": [
    "def test2():\n",
    "    return [36,58,14] # returns as a List"
   ]
  },
  {
   "cell_type": "code",
   "execution_count": 74,
   "id": "d2efb96b",
   "metadata": {},
   "outputs": [
    {
     "data": {
      "text/plain": [
       "[36, 58, 14]"
      ]
     },
     "execution_count": 74,
     "metadata": {},
     "output_type": "execute_result"
    }
   ],
   "source": [
    "test2()"
   ]
  },
  {
   "cell_type": "code",
   "execution_count": 82,
   "id": "cb8eece5",
   "metadata": {},
   "outputs": [],
   "source": [
    "def test21():\n",
    "    return 36,58,'14'      # return as a set"
   ]
  },
  {
   "cell_type": "code",
   "execution_count": 83,
   "id": "503c2cad",
   "metadata": {},
   "outputs": [
    {
     "data": {
      "text/plain": [
       "(36, 58, '14')"
      ]
     },
     "execution_count": 83,
     "metadata": {},
     "output_type": "execute_result"
    }
   ],
   "source": [
    "test21()"
   ]
  },
  {
   "cell_type": "code",
   "execution_count": 84,
   "id": "89302d1e",
   "metadata": {},
   "outputs": [],
   "source": [
    "a,b,c = test21()"
   ]
  },
  {
   "cell_type": "code",
   "execution_count": 85,
   "id": "e49cd92d",
   "metadata": {},
   "outputs": [
    {
     "name": "stdout",
     "output_type": "stream",
     "text": [
      "36\n",
      "58\n",
      "14\n"
     ]
    }
   ],
   "source": [
    "print(a)\n",
    "print(b)\n",
    "print(c)"
   ]
  },
  {
   "cell_type": "code",
   "execution_count": 87,
   "id": "137b5720",
   "metadata": {},
   "outputs": [
    {
     "name": "stdout",
     "output_type": "stream",
     "text": [
      "<class 'int'>\n",
      "<class 'int'>\n",
      "<class 'str'>\n"
     ]
    }
   ],
   "source": [
    "print(type(a))\n",
    "print(type(b))\n",
    "print(type(c))"
   ]
  },
  {
   "cell_type": "code",
   "execution_count": 90,
   "id": "dc4a191b",
   "metadata": {},
   "outputs": [],
   "source": [
    "def test7():\n",
    "    result = 50/20*6+8-5\n",
    "    return result"
   ]
  },
  {
   "cell_type": "code",
   "execution_count": 91,
   "id": "67d8fdc5",
   "metadata": {},
   "outputs": [
    {
     "data": {
      "text/plain": [
       "18.0"
      ]
     },
     "execution_count": 91,
     "metadata": {},
     "output_type": "execute_result"
    }
   ],
   "source": [
    "test7()"
   ]
  },
  {
   "cell_type": "code",
   "execution_count": 107,
   "id": "1200e69c",
   "metadata": {},
   "outputs": [],
   "source": [
    "def test8():\n",
    "    l=[1,2,3,4,5,6,7,8,9,10]\n",
    "    sum =0\n",
    "    for i in l:\n",
    "        sum = sum +i\n",
    "    return sum"
   ]
  },
  {
   "cell_type": "code",
   "execution_count": 108,
   "id": "9340eb77",
   "metadata": {},
   "outputs": [],
   "source": [
    "sum =test8()"
   ]
  },
  {
   "cell_type": "code",
   "execution_count": 109,
   "id": "790e9928",
   "metadata": {},
   "outputs": [
    {
     "name": "stdout",
     "output_type": "stream",
     "text": [
      "55\n"
     ]
    }
   ],
   "source": [
    "print(sum)"
   ]
  },
  {
   "cell_type": "code",
   "execution_count": 115,
   "id": "8255d1aa",
   "metadata": {},
   "outputs": [],
   "source": [
    "def test9():\n",
    "    l = [1,2,3,4,5,'India','Pune',6,7,8,'Veena',10]\n",
    "    sum = 0\n",
    "    for i in l:\n",
    "        sum+=i\n",
    "    return sum        "
   ]
  },
  {
   "cell_type": "code",
   "execution_count": 116,
   "id": "ace04584",
   "metadata": {},
   "outputs": [
    {
     "ename": "TypeError",
     "evalue": "unsupported operand type(s) for +=: 'int' and 'str'",
     "output_type": "error",
     "traceback": [
      "\u001b[1;31m---------------------------------------------------------------------------\u001b[0m",
      "\u001b[1;31mTypeError\u001b[0m                                 Traceback (most recent call last)",
      "Cell \u001b[1;32mIn[116], line 1\u001b[0m\n\u001b[1;32m----> 1\u001b[0m test9()\n",
      "Cell \u001b[1;32mIn[115], line 5\u001b[0m, in \u001b[0;36mtest9\u001b[1;34m()\u001b[0m\n\u001b[0;32m      3\u001b[0m \u001b[38;5;28msum\u001b[39m \u001b[38;5;241m=\u001b[39m \u001b[38;5;241m0\u001b[39m\n\u001b[0;32m      4\u001b[0m \u001b[38;5;28;01mfor\u001b[39;00m i \u001b[38;5;129;01min\u001b[39;00m l:\n\u001b[1;32m----> 5\u001b[0m     \u001b[38;5;28msum\u001b[39m\u001b[38;5;241m+\u001b[39m\u001b[38;5;241m=\u001b[39mi\n\u001b[0;32m      6\u001b[0m \u001b[38;5;28;01mreturn\u001b[39;00m \u001b[38;5;28msum\u001b[39m\n",
      "\u001b[1;31mTypeError\u001b[0m: unsupported operand type(s) for +=: 'int' and 'str'"
     ]
    }
   ],
   "source": [
    "test9()"
   ]
  },
  {
   "cell_type": "code",
   "execution_count": 121,
   "id": "e558f2c2",
   "metadata": {},
   "outputs": [],
   "source": [
    "def test9():\n",
    "    l = [1,2,3,4,5,'India','Pune',6,7,8,'Veena',9,10]\n",
    "    sum = 0\n",
    "    for i in l:\n",
    "        if type(i) == int:\n",
    "            sum+=i\n",
    "    return sum        "
   ]
  },
  {
   "cell_type": "code",
   "execution_count": 122,
   "id": "c934939a",
   "metadata": {},
   "outputs": [
    {
     "data": {
      "text/plain": [
       "55"
      ]
     },
     "execution_count": 122,
     "metadata": {},
     "output_type": "execute_result"
    }
   ],
   "source": [
    "test9()"
   ]
  },
  {
   "cell_type": "code",
   "execution_count": 127,
   "id": "dba72346",
   "metadata": {},
   "outputs": [],
   "source": [
    "def test10(mylist):\n",
    "    sum = 0\n",
    "    for i in mylist:\n",
    "        if type(i) == int:\n",
    "            sum+=i\n",
    "    return sum"
   ]
  },
  {
   "cell_type": "code",
   "execution_count": 128,
   "id": "29fab506",
   "metadata": {},
   "outputs": [],
   "source": [
    "l = [1,2,3,4,5,'a','b','c',6,7,'d','e',8,'f',9,10]"
   ]
  },
  {
   "cell_type": "code",
   "execution_count": 129,
   "id": "0056627e",
   "metadata": {},
   "outputs": [
    {
     "data": {
      "text/plain": [
       "55"
      ]
     },
     "execution_count": 129,
     "metadata": {},
     "output_type": "execute_result"
    }
   ],
   "source": [
    "test10(l)"
   ]
  },
  {
   "cell_type": "code",
   "execution_count": 133,
   "id": "d169f377",
   "metadata": {},
   "outputs": [],
   "source": [
    "def twoNoSum(a,b):\n",
    "    return a+b"
   ]
  },
  {
   "cell_type": "code",
   "execution_count": 134,
   "id": "f06e674e",
   "metadata": {},
   "outputs": [],
   "source": [
    "res2=twoNoSum(2,3)"
   ]
  },
  {
   "cell_type": "code",
   "execution_count": 135,
   "id": "0cd5f713",
   "metadata": {},
   "outputs": [
    {
     "name": "stdout",
     "output_type": "stream",
     "text": [
      "5\n"
     ]
    }
   ],
   "source": [
    "print(res2)"
   ]
  },
  {
   "cell_type": "markdown",
   "id": "b45e4d4a",
   "metadata": {},
   "source": [
    "## docstring"
   ]
  },
  {
   "cell_type": "code",
   "execution_count": 137,
   "id": "5b36f825",
   "metadata": {},
   "outputs": [],
   "source": [
    "# bring cursor on the function name and press tab, a popup will appear , click on + and it will give information of the function. \n",
    "#check docstring"
   ]
  },
  {
   "cell_type": "code",
   "execution_count": 139,
   "id": "ee325cb8",
   "metadata": {},
   "outputs": [],
   "source": [
    "def twoNoSum(a,b):\n",
    "    \"\"\"\n",
    "    Calculates sum of two numbers\n",
    "    :params: a is a first number\n",
    "    :params: b is a  second number\n",
    "    :returns sum of two numbers\n",
    "    \"\"\"\n",
    "    return a+b"
   ]
  },
  {
   "cell_type": "code",
   "execution_count": 141,
   "id": "b2c9ff73",
   "metadata": {},
   "outputs": [
    {
     "name": "stdout",
     "output_type": "stream",
     "text": [
      "\n",
      "    Calculates sum of two numbers\n",
      "    :params: a is a first number\n",
      "    :params: b is a  second number\n",
      "    :returns sum of two numbers\n",
      "    \n"
     ]
    }
   ],
   "source": [
    "print(twoNoSum.__doc__) #to print the description of the function"
   ]
  },
  {
   "cell_type": "code",
   "execution_count": null,
   "id": "de393b05",
   "metadata": {},
   "outputs": [],
   "source": [
    "#Print the strings from a list"
   ]
  },
  {
   "cell_type": "code",
   "execution_count": 157,
   "id": "05b38f29",
   "metadata": {},
   "outputs": [],
   "source": [
    "def test12(mylist:list()):\n",
    "    \"\"\"\n",
    "    This function separates the integer and str elements from the given list\n",
    "    :params:list()\n",
    "    :return:string list [], integer list[]\n",
    "    \"\"\"\n",
    "    li1 = []\n",
    "    li2 = []\n",
    "    \n",
    "    for i in mylist:\n",
    "        if type(i) == str:\n",
    "            li1.append(i)\n",
    "        elif type(i) ==int:\n",
    "            li2.append(i)\n",
    "            \n",
    "    return li1,li2"
   ]
  },
  {
   "cell_type": "code",
   "execution_count": 158,
   "id": "33348dd9",
   "metadata": {},
   "outputs": [],
   "source": [
    "l1,l2 = test12([1,2,3,'a','b','c',4,5])"
   ]
  },
  {
   "cell_type": "code",
   "execution_count": 159,
   "id": "2ef98a1f",
   "metadata": {},
   "outputs": [
    {
     "data": {
      "text/plain": [
       "['a', 'b', 'c']"
      ]
     },
     "execution_count": 159,
     "metadata": {},
     "output_type": "execute_result"
    }
   ],
   "source": [
    "l1"
   ]
  },
  {
   "cell_type": "code",
   "execution_count": 160,
   "id": "f329d023",
   "metadata": {},
   "outputs": [
    {
     "data": {
      "text/plain": [
       "[1, 2, 3, 4, 5]"
      ]
     },
     "execution_count": 160,
     "metadata": {},
     "output_type": "execute_result"
    }
   ],
   "source": [
    "l2"
   ]
  },
  {
   "cell_type": "code",
   "execution_count": null,
   "id": "77b6d2f5",
   "metadata": {},
   "outputs": [],
   "source": []
  },
  {
   "cell_type": "code",
   "execution_count": null,
   "id": "a7efef7b",
   "metadata": {},
   "outputs": [],
   "source": []
  },
  {
   "cell_type": "code",
   "execution_count": null,
   "id": "3f99fa17",
   "metadata": {},
   "outputs": [],
   "source": []
  },
  {
   "cell_type": "code",
   "execution_count": null,
   "id": "6e411c93",
   "metadata": {},
   "outputs": [],
   "source": []
  }
 ],
 "metadata": {
  "kernelspec": {
   "display_name": "Python 3 (ipykernel)",
   "language": "python",
   "name": "python3"
  },
  "language_info": {
   "codemirror_mode": {
    "name": "ipython",
    "version": 3
   },
   "file_extension": ".py",
   "mimetype": "text/x-python",
   "name": "python",
   "nbconvert_exporter": "python",
   "pygments_lexer": "ipython3",
   "version": "3.11.5"
  }
 },
 "nbformat": 4,
 "nbformat_minor": 5
}
