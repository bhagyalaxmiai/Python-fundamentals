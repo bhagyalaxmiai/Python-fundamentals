{
 "cells": [
  {
   "cell_type": "markdown",
   "id": "06daa946",
   "metadata": {},
   "source": [
    "## 1. Write a function to find the length of a string without using inbuilt 'len' function"
   ]
  },
  {
   "cell_type": "code",
   "execution_count": 7,
   "id": "fa416b06",
   "metadata": {},
   "outputs": [],
   "source": [
    "def findlength(str1 :str):\n",
    "    \"\"\"\n",
    "    function to find the length of a string without using inbuilt 'len' function\n",
    "    :params: string\n",
    "    :returns: integer\n",
    "    \"\"\"\n",
    "        \n",
    "    c=0\n",
    "    for i in str1:\n",
    "        c +=1\n",
    "    return c\n"
   ]
  },
  {
   "cell_type": "code",
   "execution_count": 8,
   "id": "0d9312b3",
   "metadata": {},
   "outputs": [
    {
     "name": "stdout",
     "output_type": "stream",
     "text": [
      "15\n"
     ]
    }
   ],
   "source": [
    "l = findlength('Have a nice day')\n",
    "print (l)"
   ]
  },
  {
   "cell_type": "markdown",
   "id": "a4e20b55",
   "metadata": {},
   "source": [
    "## 2. Write a function which will be able to print an index of list element without using index function"
   ]
  },
  {
   "cell_type": "code",
   "execution_count": 11,
   "id": "0fc1744c",
   "metadata": {},
   "outputs": [],
   "source": [
    "def indexOfListElement(givenList : list()):\n",
    "    \"\"\"\n",
    "    function which will be able to print an index of list element without using index function¶\n",
    "    :params: list\n",
    "    :returns: integer\n",
    "    \"\"\"\n",
    "    c=0\n",
    "    for i in givenList:\n",
    "        print(f\"{c} is the index of {i}\")\n",
    "        c+=1\n",
    "    return c     \n",
    "    \n"
   ]
  },
  {
   "cell_type": "code",
   "execution_count": 12,
   "id": "2b897710",
   "metadata": {},
   "outputs": [
    {
     "name": "stdout",
     "output_type": "stream",
     "text": [
      "0 is the index of 1\n",
      "1 is the index of 2\n",
      "2 is the index of 3\n",
      "3 is the index of a\n",
      "4 is the index of b\n",
      "5 is the index of 4\n",
      "6 is the index of 5\n"
     ]
    },
    {
     "data": {
      "text/plain": [
       "7"
      ]
     },
     "execution_count": 12,
     "metadata": {},
     "output_type": "execute_result"
    }
   ],
   "source": [
    "l=[1,2,3,'a','b',4,5]\n",
    "indexOfListElement(l)"
   ]
  },
  {
   "cell_type": "markdown",
   "id": "508750fa",
   "metadata": {},
   "source": [
    "## 3. Write a function that calculates the factorial of a given positive integer."
   ]
  },
  {
   "cell_type": "code",
   "execution_count": 15,
   "id": "51a29640",
   "metadata": {},
   "outputs": [],
   "source": [
    "def findFact(num:int):\n",
    "    \"\"\"\n",
    "    function that calculates the factorial of a given positive integer.\n",
    "    :params: integer\n",
    "    :returns: integer\n",
    "    \"\"\"    \n",
    "    f=1\n",
    "    \n",
    "    for i in range(1,num):\n",
    "        f=f*i\n",
    "        \n",
    "    return f\n"
   ]
  },
  {
   "cell_type": "code",
   "execution_count": 16,
   "id": "8813701d",
   "metadata": {},
   "outputs": [
    {
     "name": "stdout",
     "output_type": "stream",
     "text": [
      "Enter number : 6\n",
      "factorial of 6 is 120\n"
     ]
    }
   ],
   "source": [
    "n = int(input(\"Enter number : \"))\n",
    "factorial = findFact(n)\n",
    "print(f\"factorial of {n} is {factorial}\") "
   ]
  },
  {
   "cell_type": "markdown",
   "id": "f8392a26",
   "metadata": {},
   "source": [
    "## 4. Write a program that finds the largest element in a list of numbers."
   ]
  },
  {
   "cell_type": "code",
   "execution_count": 21,
   "id": "9c315393",
   "metadata": {},
   "outputs": [],
   "source": [
    "def largerNuminList(givenList : list):\n",
    "    \"\"\"\n",
    "    finds the largest element in a list of numbers.\n",
    "    :params: list\n",
    "    :returns: integer\n",
    "    \"\"\"  \n",
    "    max=0\n",
    "    for i in givenList:\n",
    "        if type(i) ==int:\n",
    "            if i > max:\n",
    "                max = i\n",
    "    return max"
   ]
  },
  {
   "cell_type": "code",
   "execution_count": 27,
   "id": "67eaa5bb",
   "metadata": {},
   "outputs": [],
   "source": [
    "max = largerNuminList([1,2,8,'c','a','b',6,7])"
   ]
  },
  {
   "cell_type": "code",
   "execution_count": 28,
   "id": "bb28b6ff",
   "metadata": {},
   "outputs": [
    {
     "data": {
      "text/plain": [
       "8"
      ]
     },
     "execution_count": 28,
     "metadata": {},
     "output_type": "execute_result"
    }
   ],
   "source": [
    "max"
   ]
  },
  {
   "cell_type": "markdown",
   "id": "04ddd8d7",
   "metadata": {},
   "source": [
    "## 5. Create a function that converts temperature from Celsius to Fahrenheit."
   ]
  },
  {
   "cell_type": "code",
   "execution_count": 31,
   "id": "1ead452a",
   "metadata": {},
   "outputs": [],
   "source": [
    "def tempToFah(temp : int):\n",
    "    \"\"\"\n",
    "    function that converts temperature from Celsius to Fahrenheit\n",
    "    :params: int\n",
    "    :returns: float\n",
    "    \"\"\"\n",
    "    f = (9/5 * temp) + 32\n",
    "    return f\n"
   ]
  },
  {
   "cell_type": "code",
   "execution_count": 32,
   "id": "b0a97d3c",
   "metadata": {},
   "outputs": [],
   "source": [
    "f = tempToFah(30)"
   ]
  },
  {
   "cell_type": "code",
   "execution_count": 33,
   "id": "518656e8",
   "metadata": {},
   "outputs": [
    {
     "name": "stdout",
     "output_type": "stream",
     "text": [
      "86.0\n"
     ]
    }
   ],
   "source": [
    "print(f)"
   ]
  },
  {
   "cell_type": "markdown",
   "id": "53ab1efc",
   "metadata": {},
   "source": [
    "## 6. Write a Python function to reverse a list."
   ]
  },
  {
   "cell_type": "code",
   "execution_count": 36,
   "id": "a43deea3",
   "metadata": {},
   "outputs": [],
   "source": [
    "def reverseList(givenList : list):\n",
    "    \"\"\"\n",
    "    function to reverse a list\n",
    "    :params: list\n",
    "    :returns: list\n",
    "    \"\"\"\n",
    "    rList = []\n",
    "    for i in range(len(givenList) - 1, -1, -1):\n",
    "        rList.append(givenList[i])\n",
    "    return rList\n"
   ]
  },
  {
   "cell_type": "code",
   "execution_count": 38,
   "id": "dd133768",
   "metadata": {},
   "outputs": [],
   "source": [
    "resultList = reverseList([3,4,2,'a','b',8,9])"
   ]
  },
  {
   "cell_type": "code",
   "execution_count": 39,
   "id": "8790257e",
   "metadata": {},
   "outputs": [
    {
     "data": {
      "text/plain": [
       "[9, 8, 'b', 'a', 2, 4, 3]"
      ]
     },
     "execution_count": 39,
     "metadata": {},
     "output_type": "execute_result"
    }
   ],
   "source": [
    "resultList"
   ]
  },
  {
   "cell_type": "markdown",
   "id": "7d59372c",
   "metadata": {},
   "source": [
    "## 7. Function to Check if a Number is Even"
   ]
  },
  {
   "cell_type": "code",
   "execution_count": 2,
   "id": "d0d3c659",
   "metadata": {},
   "outputs": [],
   "source": [
    "def checkEven(num : int):\n",
    "    \"\"\"\n",
    "    function to reverse a list\n",
    "    :params: int\n",
    "    :returns: str\n",
    "    \"\"\"\n",
    "    if num % 2 ==0:\n",
    "        return 'Even'\n",
    "    else:\n",
    "        return 'Odd'"
   ]
  },
  {
   "cell_type": "code",
   "execution_count": 5,
   "id": "e2e0f329",
   "metadata": {},
   "outputs": [],
   "source": [
    "result = checkEven (4)"
   ]
  },
  {
   "cell_type": "code",
   "execution_count": 6,
   "id": "9f308d82",
   "metadata": {},
   "outputs": [
    {
     "name": "stdout",
     "output_type": "stream",
     "text": [
      "Even\n"
     ]
    }
   ],
   "source": [
    "print (result)"
   ]
  },
  {
   "cell_type": "markdown",
   "id": "861029ca",
   "metadata": {},
   "source": [
    "## 8. Write a function to check whether a string is palindrome or not"
   ]
  },
  {
   "cell_type": "code",
   "execution_count": 6,
   "id": "d123af18",
   "metadata": {},
   "outputs": [],
   "source": [
    "def palindrome(givenStr : str):\n",
    "    \"\"\"\n",
    "    function to check whether a string is palindrome or not\n",
    "    :params: str\n",
    "    :returns: int\n",
    "    \"\"\"\n",
    "    revStr=givenStr[::-1]\n",
    "    if revStr == givenStr:\n",
    "        return 1\n",
    "    else:\n",
    "        return 0"
   ]
  },
  {
   "cell_type": "code",
   "execution_count": 8,
   "id": "9095255e",
   "metadata": {},
   "outputs": [
    {
     "data": {
      "text/plain": [
       "0"
      ]
     },
     "execution_count": 8,
     "metadata": {},
     "output_type": "execute_result"
    }
   ],
   "source": [
    "result = palindrome('nitin')\n",
    "result"
   ]
  },
  {
   "cell_type": "markdown",
   "id": "f13e8206",
   "metadata": {},
   "source": [
    "## 9. Write a function to find the cube root of the number"
   ]
  },
  {
   "cell_type": "code",
   "execution_count": 11,
   "id": "a67f7dee",
   "metadata": {},
   "outputs": [],
   "source": [
    "def cubeRootNo(num : int):\n",
    "    \"\"\"\n",
    "    function to find the cube root of the number\n",
    "    :params: int\n",
    "    :returns: int\n",
    "    \"\"\"\n",
    "    res = num ** 3\n",
    "    return res"
   ]
  },
  {
   "cell_type": "code",
   "execution_count": 14,
   "id": "b4d78a9f",
   "metadata": {},
   "outputs": [],
   "source": [
    "result = cubeRootNo(3)"
   ]
  },
  {
   "cell_type": "code",
   "execution_count": 15,
   "id": "68cba4fd",
   "metadata": {},
   "outputs": [
    {
     "data": {
      "text/plain": [
       "27"
      ]
     },
     "execution_count": 15,
     "metadata": {},
     "output_type": "execute_result"
    }
   ],
   "source": [
    "result"
   ]
  },
  {
   "cell_type": "markdown",
   "id": "e0dc1319",
   "metadata": {},
   "source": [
    "## 10. Write a program that calculates the average of numbers in a list"
   ]
  },
  {
   "cell_type": "code",
   "execution_count": 14,
   "id": "cb4ddbbe",
   "metadata": {},
   "outputs": [],
   "source": [
    "def calAverage(givenList:list):\n",
    "    \"\"\"\n",
    "    function that calculates the average of numbers in a list\n",
    "    :params: list\n",
    "    :returns:int\n",
    "    \"\"\"\n",
    "    sum=0\n",
    "    c=0\n",
    "    for i in  givenList:\n",
    "        if type(i) == int:\n",
    "            sum=sum +i\n",
    "            print (f\"This is sum :{sum}\")\n",
    "            c=c+1\n",
    "    \n",
    "    avg = float(sum /c)\n",
    "    print (avg)\n",
    "    return avg\n",
    "    "
   ]
  },
  {
   "cell_type": "code",
   "execution_count": 15,
   "id": "a42531f3",
   "metadata": {},
   "outputs": [
    {
     "name": "stdout",
     "output_type": "stream",
     "text": [
      "This is sum :1\n",
      "This is sum :3\n",
      "This is sum :6\n",
      "This is sum :9\n",
      "This is sum :12\n",
      "2.4\n"
     ]
    },
    {
     "data": {
      "text/plain": [
       "2.4"
      ]
     },
     "execution_count": 15,
     "metadata": {},
     "output_type": "execute_result"
    }
   ],
   "source": [
    "ans = calAverage([1,2,3,'a','s',3,3])\n",
    "ans"
   ]
  },
  {
   "cell_type": "markdown",
   "id": "55216f4f",
   "metadata": {},
   "source": [
    "## 11.Implement a function that checks if a given number is prime"
   ]
  },
  {
   "cell_type": "code",
   "execution_count": 18,
   "id": "96c353d1",
   "metadata": {},
   "outputs": [],
   "source": [
    "def checkPrime(num:int):\n",
    "    \"\"\"\n",
    "    function that checks if a given number is prime\n",
    "    :params: int\n",
    "    :return:int\n",
    "    \"\"\"\n",
    "    for i in range(2,num-1):\n",
    "        if (num % i) == 0:\n",
    "            p=0\n",
    "            break;\n",
    "        else:\n",
    "            p=1\n",
    "    if p==0:\n",
    "        return 1\n",
    "    else:\n",
    "        return 0"
   ]
  },
  {
   "cell_type": "code",
   "execution_count": 24,
   "id": "5782c80b",
   "metadata": {},
   "outputs": [
    {
     "name": "stdout",
     "output_type": "stream",
     "text": [
      "Enter number : 5\n",
      "5 is not prime\n"
     ]
    }
   ],
   "source": [
    "n= int(input(\"Enter number : \"))\n",
    "ans = checkPrime(6)\n",
    "if ans==0:\n",
    "    print(f\"{n} is prime\")\n",
    "else:\n",
    "    print(f\"{n} is not prime\")\n"
   ]
  },
  {
   "cell_type": "markdown",
   "id": "8148a5e3",
   "metadata": {},
   "source": [
    "## 12 Write a program that generates the Fibonacci sequence up to a specified term."
   ]
  },
  {
   "cell_type": "code",
   "execution_count": 18,
   "id": "802e6ad1",
   "metadata": {},
   "outputs": [
    {
     "name": "stdout",
     "output_type": "stream",
     "text": [
      "1\n",
      "1\n",
      "2\n",
      "3\n",
      "5\n",
      "8\n",
      "13\n"
     ]
    }
   ],
   "source": [
    "def fibonacci(num:int, a:int ,b:int):\n",
    "    \"\"\"\n",
    "    function that checks if a given number is prime\n",
    "    :params: int\n",
    "    :return:int\n",
    "    \"\"\"\n",
    "    \n",
    "    i=1\n",
    "    a1=a\n",
    "    b1=b\n",
    "    while (i<num -2):        \n",
    "        c=a1+b1\n",
    "        a1=b1\n",
    "        b1=c\n",
    "        print(c)\n",
    "        i=i+1\n",
    "        \n",
    "fibonacci(10,1,0)\n",
    "        \n",
    "        \n",
    "    "
   ]
  },
  {
   "cell_type": "markdown",
   "id": "31af4fef",
   "metadata": {},
   "source": [
    "## 13. Create a function that sorts a list of numbers in ascending order"
   ]
  },
  {
   "cell_type": "code",
   "execution_count": 19,
   "id": "47727b1b",
   "metadata": {},
   "outputs": [],
   "source": [
    "def sortList(givenList : list):\n",
    "    \"\"\"\n",
    "    function that sorts a list of numbers in ascending order\n",
    "    :params: list\n",
    "    :return:list\n",
    "    \"\"\"\n",
    "    lst = givenList.sort()\n",
    "    return lst"
   ]
  },
  {
   "cell_type": "code",
   "execution_count": 20,
   "id": "60e3236a",
   "metadata": {},
   "outputs": [],
   "source": [
    "lst = sortList([6,3,9,4,7])\n",
    "lst"
   ]
  },
  {
   "cell_type": "markdown",
   "id": "f613158d",
   "metadata": {},
   "source": [
    "## 14. Write a program that calculates the area of a circle given its radius"
   ]
  },
  {
   "cell_type": "code",
   "execution_count": 35,
   "id": "fe231ff2",
   "metadata": {},
   "outputs": [],
   "source": [
    "def areaOfCirlce(radius : float) :\n",
    "    \"\"\"\n",
    "    function that calculates the area of a circle given its radius\n",
    "    :params: float\n",
    "    :return:float\n",
    "    \"\"\"\n",
    "    area = 3.14 * radius**2\n",
    "    return area"
   ]
  },
  {
   "cell_type": "code",
   "execution_count": 36,
   "id": "dd81b77c",
   "metadata": {},
   "outputs": [
    {
     "data": {
      "text/plain": [
       "63.585"
      ]
     },
     "execution_count": 36,
     "metadata": {},
     "output_type": "execute_result"
    }
   ],
   "source": [
    "a = areaOfCirlce(4.5)\n",
    "a"
   ]
  },
  {
   "cell_type": "markdown",
   "id": "da63a231",
   "metadata": {},
   "source": [
    "## 15. Implement a function to check if a given year is a leap year or not"
   ]
  },
  {
   "cell_type": "code",
   "execution_count": 40,
   "id": "1271df6d",
   "metadata": {},
   "outputs": [],
   "source": [
    "def leapYear(year : int):\n",
    "    \"\"\"\n",
    "    function to check if a given year is a leap year or not\n",
    "    :params: int\n",
    "    :return:bool\n",
    "    \"\"\"\n",
    "    if (year % 4 == 0 and year % 100 != 0) or (year % 400 == 0):\n",
    "        return True\n",
    "    else:\n",
    "        return False\n",
    "    "
   ]
  },
  {
   "cell_type": "code",
   "execution_count": 44,
   "id": "2479fdf0",
   "metadata": {},
   "outputs": [
    {
     "data": {
      "text/plain": [
       "False"
      ]
     },
     "execution_count": 44,
     "metadata": {},
     "output_type": "execute_result"
    }
   ],
   "source": [
    "ans = leapYear(2025)\n",
    "ans"
   ]
  },
  {
   "cell_type": "code",
   "execution_count": null,
   "id": "1d1c43c8",
   "metadata": {},
   "outputs": [],
   "source": []
  }
 ],
 "metadata": {
  "kernelspec": {
   "display_name": "Python 3 (ipykernel)",
   "language": "python",
   "name": "python3"
  },
  "language_info": {
   "codemirror_mode": {
    "name": "ipython",
    "version": 3
   },
   "file_extension": ".py",
   "mimetype": "text/x-python",
   "name": "python",
   "nbconvert_exporter": "python",
   "pygments_lexer": "ipython3",
   "version": "3.11.5"
  }
 },
 "nbformat": 4,
 "nbformat_minor": 5
}
